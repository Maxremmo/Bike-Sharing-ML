{
 "cells": [
  {
   "cell_type": "code",
   "execution_count": null,
   "metadata": {},
   "outputs": [],
   "source": [
    "import pandas as pd\n",
    "import datetime as dt \n",
    "import pandas as pd\n",
    "import matplotlib.pyplot as plt\n",
    "import geopandas as gpd\n",
    "from shapely.geometry import Point\n",
    "import requests"
   ]
  },
  {
   "cell_type": "code",
   "execution_count": null,
   "metadata": {},
   "outputs": [],
   "source": [
    "def main_request(base_url = 'https://gbfs.capitalbikeshare.com/gbfs/gbfs.json'):\n",
    "\n",
    "    r = requests.get(base_url)\n",
    "    data = r.json()\n",
    "\n",
    "    return data\n",
    "\n",
    "\n",
    "def station_info(data):\n",
    "    \n",
    "    r = requests.get(data['data']['en']['feeds'][1]['url'])\n",
    "    station_info = r.json()\n",
    "\n",
    "    return station_info\n",
    "\n",
    "\n",
    "def station_status(data):\n",
    "\n",
    "    r = requests.get(data['data']['en']['feeds'][2]['url'])\n",
    "    station_status = r.json()\n",
    "\n",
    "    return station_status\n",
    "\n",
    "\n",
    "def parse_station_status(station_status_json):\n",
    "\n",
    "    station_status_list = []\n",
    "    last_update = station_status_json['last_updated']\n",
    "\n",
    "    for station in range(len(station_status_json['data']['stations'])):\n",
    "        try:\n",
    "            station_status = station_status_json['data']['stations'][station]['station_status']\n",
    "            last_reported = station_status_json['data']['stations'][station]['last_reported']\n",
    "            num_bikes_available = station_status_json['data']['stations'][station]['num_bikes_available']\n",
    "            available_scooters = station_status_json['data']['stations'][station]['num_scooters_available']\n",
    "            num_ebikes_available = station_status_json['data']['stations'][station]['num_ebikes_available']\n",
    "            num_bikes_disabled = station_status_json['data']['stations'][station]['num_bikes_disabled']\n",
    "            station_id = station_status_json['data']['stations'][station]['station_id']\n",
    "            is_returning = station_status_json['data']['stations'][station]['is_returning']\n",
    "            is_renting = station_status_json['data']['stations'][station]['is_renting']\n",
    "            num_docks_disabled = station_status_json['data']['stations'][station]['num_docks_disabled']\n",
    "            num_docks_available = station_status_json['data']['stations'][station]['num_docks_available']\n",
    "\n",
    "        except KeyError:\n",
    "            pass\n",
    "\n",
    "        station_status_dict = {\n",
    "            'station_status' : station_status,\n",
    "            'last_reported' : dt.datetime.fromtimestamp(last_reported),\n",
    "            'last_updated' : dt.datetime.fromtimestamp(last_update),\n",
    "            'available_scooters': available_scooters,\n",
    "            'num_bikes_available' : num_bikes_available,\n",
    "            'num_bikes_disabled' : num_bikes_disabled,\n",
    "            'num_ebikes_available' : num_ebikes_available,\n",
    "            'station_id' : station_id,\n",
    "            'is_renting' : is_renting,\n",
    "            'is_returning' : is_returning,\n",
    "            'num_docks_available' : num_docks_available,\n",
    "            'num_docks_disabled' : num_docks_disabled\n",
    "        }\n",
    "        \n",
    "        station_status_list.append(station_status_dict)\n",
    "\n",
    "    return station_status_list\n",
    "\n",
    "\n",
    "def parse_station_info(stations_json):\n",
    "\n",
    "    station_list = []\n",
    "    last_update = stations_json['last_updated']\n",
    "     \n",
    "    for station in range(len(stations_json['data']['stations'])):\n",
    "        region_id = stations_json['data']['stations'][station]['region_id']\n",
    "        has_kiosk = stations_json['data']['stations'][station]['has_kiosk']\n",
    "        station_type = stations_json['data']['stations'][station]['station_type']\n",
    "        adress = stations_json['data']['stations'][station]['name']\n",
    "        capacity = stations_json['data']['stations'][station]['capacity']\n",
    "        latitude = stations_json['data']['stations'][station]['lat']\n",
    "        longitude = stations_json['data']['stations'][station]['lon']\n",
    "        rental_methods = stations_json['data']['stations'][station]['rental_methods']\n",
    "        station_id = stations_json['data']['stations'][station]['station_id']\n",
    "        legacy_id = stations_json['data']['stations'][station]['legacy_id']\n",
    "\n",
    "        station_dict = {\n",
    "            'region_id' : region_id,\n",
    "            'adress' : adress,\n",
    "            'latitude': latitude,\n",
    "            'longitude' : longitude,\n",
    "            'type' : station_type,\n",
    "            'has_kiosk' : has_kiosk,\n",
    "            'capacity' : capacity,\n",
    "            'rental_methods' : rental_methods,\n",
    "            'station_id' : station_id,\n",
    "            'legacy_id' : legacy_id,\n",
    "            'last_updated' : dt.datetime.fromtimestamp(last_update)\n",
    "        }\n",
    "\n",
    "        station_list.append(station_dict)\n",
    "        \n",
    "    return station_list\n",
    "\n",
    "\n",
    "def get_bike_info(data):\n",
    "    \n",
    "    resp = requests.get(data['data']['en']['feeds'][3]['url'])\n",
    "    bike_data = resp.json()\n",
    "\n",
    "    return bike_data\n",
    "\n",
    "\n",
    "def parse_bike_info(bike_json):\n",
    "    bike_list = []\n",
    "    last_update = bike_json['last_updated']\n",
    "    for bike in range(len(bike_json['data']['bikes'])):\n",
    "        bike_id = bike_json['data']['bikes'][bike]['bike_id']\n",
    "        latitude = bike_json['data']['bikes'][bike]['lat']\n",
    "        longitude = bike_json['data']['bikes'][bike]['lon']\n",
    "        longitude = bike_json['data']['bikes'][bike]['lon']\n",
    "        type = bike_json['data']['bikes'][bike]['type']\n",
    "        reserved = bike_json['data']['bikes'][bike]['is_reserved']\n",
    "        disabled = bike_json['data']['bikes'][bike]['is_disabled']\n",
    "        bike_dict = {\n",
    "            'bike_id' : bike_id,\n",
    "            'latitude': latitude,\n",
    "            'longitude' : longitude,\n",
    "            'bike_type' : type,\n",
    "            'reserved' : reserved,\n",
    "            'disabled' : disabled,\n",
    "            'last_updated' : dt.datetime.fromtimestamp(last_update)\n",
    "        }\n",
    "        bike_list.append(bike_dict)\n",
    "    return bike_list   "
   ]
  },
  {
   "cell_type": "code",
   "execution_count": null,
   "metadata": {},
   "outputs": [],
   "source": [
    "df_stations = pd.DataFrame(parse_station_info(station_info(main_request())))"
   ]
  },
  {
   "cell_type": "code",
   "execution_count": null,
   "metadata": {},
   "outputs": [],
   "source": [
    "df_stations['region_id'].value_counts()"
   ]
  },
  {
   "cell_type": "markdown",
   "metadata": {},
   "source": [
    "### Limit Data to D.C Area"
   ]
  },
  {
   "cell_type": "code",
   "execution_count": null,
   "metadata": {},
   "outputs": [],
   "source": [
    "df_dc_area_stations = df_stations[df_stations['region_id'] == '42']"
   ]
  },
  {
   "cell_type": "code",
   "execution_count": null,
   "metadata": {},
   "outputs": [],
   "source": [
    "geometry = [Point(xy) for xy in zip(df_dc_area_stations['longitude'], df_dc_area_stations['latitude'])]\n",
    "crs = {'init':'epsg:4326'}\n",
    "geometry[:3]"
   ]
  },
  {
   "cell_type": "code",
   "execution_count": null,
   "metadata": {},
   "outputs": [],
   "source": [
    "geo_df = gpd.GeoDataFrame(df_dc_area_stations, \n",
    "                          crs=crs, \n",
    "                          geometry=geometry) \n",
    "geo_df.crs"
   ]
  },
  {
   "cell_type": "code",
   "execution_count": null,
   "metadata": {},
   "outputs": [],
   "source": [
    "df_dc_area_stations.iloc[1,10]"
   ]
  },
  {
   "cell_type": "code",
   "execution_count": null,
   "metadata": {},
   "outputs": [],
   "source": [
    "washington = gpd.read_file('datasets/tl_2018_11001_roads/tl_2018_11001_roads.shp')\n",
    "\n",
    "fig, ax = plt.subplots(figsize=(14, 14))\n",
    "\n",
    "washington.plot(ax=ax, zorder= 1)\n",
    "\n",
    "geo_df.plot(ax=ax, marker='o', color='red', markersize=7, zorder=2)\n",
    "\n",
    "ax.set_xlim(washington.total_bounds[0], washington.total_bounds[2])\n",
    "ax.set_ylim(washington.total_bounds[1], washington.total_bounds[3])\n",
    "\n",
    "updated_time = df_dc_area_stations.iloc[1,10]\n",
    "\n",
    "ax.set_title(f\"Bike-Sharing Stations in Washington, D.C. at {updated_time}\")\n",
    "ax.set_xlabel(\"Longitude\")\n",
    "ax.set_ylabel(\"Latitude\")\n",
    "\n",
    "plt.show()"
   ]
  },
  {
   "cell_type": "code",
   "execution_count": null,
   "metadata": {},
   "outputs": [],
   "source": [
    "df_bikes = pd.DataFrame(parse_bike_info(get_bike_info(main_request())))"
   ]
  },
  {
   "cell_type": "code",
   "execution_count": null,
   "metadata": {},
   "outputs": [],
   "source": [
    "df_bikes.head()"
   ]
  },
  {
   "cell_type": "code",
   "execution_count": null,
   "metadata": {},
   "outputs": [],
   "source": [
    "df_bikes['reserved'] = df_bikes['reserved'].apply(lambda x: 'No' if x == 0 else 'Yes')"
   ]
  },
  {
   "cell_type": "code",
   "execution_count": null,
   "metadata": {},
   "outputs": [],
   "source": [
    "geometry = [Point(xy) for xy in zip(df_bikes['longitude'], df_bikes['latitude'])]\n",
    "crs = {'init':'epsg:4326'}\n",
    "geometry[:3]"
   ]
  },
  {
   "cell_type": "code",
   "execution_count": null,
   "metadata": {},
   "outputs": [],
   "source": [
    "geo_df = gpd.GeoDataFrame(df_bikes,\n",
    "                          crs=crs, \n",
    "                          geometry=geometry) "
   ]
  },
  {
   "cell_type": "code",
   "execution_count": null,
   "metadata": {},
   "outputs": [],
   "source": [
    "washington = gpd.read_file('datasets/tl_2018_11001_roads/tl_2018_11001_roads.shp')\n",
    "\n",
    "fig, ax = plt.subplots(figsize=(12, 12))\n",
    "\n",
    "washington.plot(ax=ax, zorder= 1)\n",
    "\n",
    "geo_df.plot(ax=ax, marker='o', color='red', markersize=5, zorder=2)\n",
    "\n",
    "ax.set_xlim(washington.total_bounds[0], washington.total_bounds[2])\n",
    "ax.set_ylim(washington.total_bounds[1], washington.total_bounds[3])\n",
    "\n",
    "updated_time = df_bikes.iloc[1,6]\n",
    "\n",
    "ax.set_title(f\"Available Bikes in Washington, D.C. at {updated_time}\")\n",
    "ax.set_xlabel(\"Longitude\")\n",
    "ax.set_ylabel(\"Latitude\")\n",
    "\n",
    "# Display the map\n",
    "plt.show()"
   ]
  },
  {
   "cell_type": "code",
   "execution_count": null,
   "metadata": {},
   "outputs": [],
   "source": [
    "df_station_status = pd.DataFrame(parse_station_status(station_status(main_request(base_url))))"
   ]
  },
  {
   "cell_type": "code",
   "execution_count": null,
   "metadata": {},
   "outputs": [],
   "source": [
    "df_station_status"
   ]
  },
  {
   "cell_type": "code",
   "execution_count": null,
   "metadata": {},
   "outputs": [],
   "source": [
    "df_stations_merged = pd.merge(df_dc_area_stations, df_station_status, on='station_id')"
   ]
  },
  {
   "cell_type": "code",
   "execution_count": null,
   "metadata": {},
   "outputs": [],
   "source": [
    "df_stations_merged"
   ]
  },
  {
   "cell_type": "code",
   "execution_count": null,
   "metadata": {},
   "outputs": [],
   "source": [
    "geometry = [Point(xy) for xy in zip(df_stations_merged['longitude'], df_stations_merged['latitude'])]\n",
    "crs = {'init':'epsg:4326'}\n",
    "geometry[:3]"
   ]
  },
  {
   "cell_type": "code",
   "execution_count": null,
   "metadata": {},
   "outputs": [],
   "source": [
    "geo_df = gpd.GeoDataFrame(df_stations_merged.drop(['last_updated_y','last_updated_x', 'last_reported'],axis=1),\n",
    "                          crs=crs,\n",
    "                          geometry=geometry)\n",
    "\n",
    "geo_df.crs"
   ]
  },
  {
   "cell_type": "code",
   "execution_count": null,
   "metadata": {},
   "outputs": [],
   "source": [
    "fig, ax = plt.subplots(figsize=(15,15))\n",
    "washington.plot(ax=ax, alpha=0.4, color='grey')\n",
    "geo_df[geo_df['num_bikes_available'] <= 3].plot(ax=ax, \n",
    "                                       markersize=15, \n",
    "                                       color='red', \n",
    "                                       marker='o', \n",
    "                                       label='Low on Bikes')\n",
    "geo_df[geo_df['num_bikes_available'] >= 4].plot(ax=ax, \n",
    "                                       markersize=20, \n",
    "                                       color='green', \n",
    "                                       marker='^', \n",
    "                                       label='More than 5 Bikes')\n",
    "\n",
    "ax.set_xlim(washington.total_bounds[0], washington.total_bounds[2])\n",
    "ax.set_ylim(washington.total_bounds[1], washington.total_bounds[3])\n",
    "\n",
    "updated_time = df_stations_merged.iloc[1,10]\n",
    "\n",
    "\n",
    "ax.set_title(f\"Stations with more than 4 available bikes in Washington, D.C. at {updated_time}\")\n",
    "ax.set_xlabel(\"Longitude\")\n",
    "ax.set_ylabel(\"Latitude\")\n",
    "\n",
    "plt.legend(prop={'size':15})\n",
    "\n",
    "plt.show()"
   ]
  },
  {
   "cell_type": "code",
   "execution_count": null,
   "metadata": {},
   "outputs": [],
   "source": [
    "fig, ax = plt.subplots(figsize=(15,15))\n",
    "washington.plot(ax=ax, alpha=0.4, color='grey')\n",
    "geo_df[geo_df['num_ebikes_available'] == 0].plot(ax=ax, \n",
    "                                       markersize=15, \n",
    "                                       color='red', \n",
    "                                       marker='o', \n",
    "                                       label='No E-Bikes')\n",
    "geo_df[geo_df['num_ebikes_available'] > 0].plot(ax=ax, \n",
    "                                       markersize=20, \n",
    "                                       color='green', \n",
    "                                       marker='^', \n",
    "                                       label='E-Bikes available')\n",
    "\n",
    "ax.set_xlim(washington.total_bounds[0], washington.total_bounds[2])\n",
    "ax.set_ylim(washington.total_bounds[1], washington.total_bounds[3])\n",
    "\n",
    "updated_time = df_stations_merged.iloc[1,10]\n",
    "\n",
    "\n",
    "ax.set_title(f\"Stations with available ebikes in Washington, D.C. at {updated_time}\")\n",
    "ax.set_xlabel(\"Longitude\")\n",
    "ax.set_ylabel(\"Latitude\")\n",
    "\n",
    "plt.legend(prop={'size':15})\n",
    "\n",
    "plt.show()"
   ]
  },
  {
   "cell_type": "code",
   "execution_count": null,
   "metadata": {},
   "outputs": [],
   "source": [
    "geometry = [Point(xy) for xy in zip(df_bikes['longitude'], df_bikes['latitude'])]\n",
    "geo_df_bikes = gpd.GeoDataFrame(df_bikes.drop('last_updated',axis=1),\n",
    "                          crs=crs,\n",
    "                          geometry=geometry) "
   ]
  },
  {
   "cell_type": "code",
   "execution_count": null,
   "metadata": {},
   "outputs": [],
   "source": [
    "trips_11 = pd.read_csv('datasets/2011-capitalbikeshare-tripdata.csv')\n",
    "\n",
    "trips_11.shape"
   ]
  },
  {
   "cell_type": "code",
   "execution_count": null,
   "metadata": {},
   "outputs": [],
   "source": [
    "df_tobemerged = df_stations_merged.drop(['type','has_kiosk','available_scooters', 'num_bikes_available', 'num_bikes_disabled',\n",
    "       'num_ebikes_available', 'is_renting', 'is_returning',\n",
    "       'num_docks_available', 'num_docks_disabled', 'last_updated_x','last_updated_y','last_reported'],axis=1)"
   ]
  },
  {
   "cell_type": "code",
   "execution_count": null,
   "metadata": {},
   "outputs": [],
   "source": [
    "df_tobemerged.rename(columns={'adress':'Start station'},inplace=True)"
   ]
  },
  {
   "cell_type": "code",
   "execution_count": null,
   "metadata": {},
   "outputs": [],
   "source": [
    "df_trip_with_stations = pd.merge(df_tobemerged, trips_11, on='Start station')\n",
    "df_trip_with_stations.rename(columns={'latitude':'start_latitude', 'longitude':'start_longitude'},inplace=True)"
   ]
  },
  {
   "cell_type": "code",
   "execution_count": null,
   "metadata": {},
   "outputs": [],
   "source": [
    "start_station_coordinates = df_trip_with_stations.groupby(\"Start station\").first()[[\"start_latitude\", \"start_longitude\"]].to_dict()\n",
    "\n",
    "def get_end_coordinates(start_station):\n",
    "    return start_station_coordinates[\"start_latitude\"].get(start_station), start_station_coordinates[\"start_longitude\"].get(start_station)\n",
    "\n",
    "df_trip_with_stations[\"end_latitude\"], df_trip_with_stations[\"end_longitude\"] = zip(*df_trip_with_stations[\"End station\"].map(get_end_coordinates))"
   ]
  },
  {
   "cell_type": "code",
   "execution_count": null,
   "metadata": {},
   "outputs": [],
   "source": [
    "from shapely.geometry import LineString\n",
    "\n",
    "station_pairs = df_trip_with_stations.groupby(['Start station', 'start_latitude', 'start_longitude', 'End station', 'end_latitude', 'end_longitude']).size().reset_index(name='count')\n",
    "\n",
    "\n",
    "sorted_pairs = station_pairs.sort_values('count', ascending=False).head(100)\n",
    "\n",
    "lines = []\n",
    "for _, row in sorted_pairs.iterrows():\n",
    "    start_coords = (row['start_longitude'], row['start_latitude'])\n",
    "    end_coords = (row['end_longitude'], row['end_latitude'])\n",
    "    line = LineString([start_coords, end_coords])\n",
    "    lines.append(line)\n",
    "\n",
    "geo_df_trips = gpd.GeoDataFrame(sorted_pairs, geometry=lines, crs=crs)"
   ]
  },
  {
   "cell_type": "code",
   "execution_count": null,
   "metadata": {},
   "outputs": [],
   "source": [
    "trips_15 = pd.read_csv('datasets/2015Q2-capitalbikeshare-tripdata.csv')\n",
    "trips_15.head()"
   ]
  },
  {
   "cell_type": "code",
   "execution_count": null,
   "metadata": {},
   "outputs": [],
   "source": [
    "df_trip_with_stations_15 = pd.merge(df_tobemerged, trips_15, on='Start station')\n",
    "df_trip_with_stations_15.rename(columns={'latitude':'start_latitude', 'longitude':'start_longitude'},inplace=True)"
   ]
  },
  {
   "cell_type": "code",
   "execution_count": null,
   "metadata": {},
   "outputs": [],
   "source": [
    "start_station_coordinates = df_trip_with_stations_15.groupby(\"Start station\").first()[[\"start_latitude\", \"start_longitude\"]].to_dict()\n",
    "\n",
    "def get_end_coordinates(start_station):\n",
    "    return start_station_coordinates[\"start_latitude\"].get(start_station), start_station_coordinates[\"start_longitude\"].get(start_station)\n",
    "\n",
    "df_trip_with_stations_15[\"end_latitude\"], df_trip_with_stations_15[\"end_longitude\"] = zip(*df_trip_with_stations_15[\"End station\"].map(get_end_coordinates))"
   ]
  },
  {
   "cell_type": "code",
   "execution_count": null,
   "metadata": {},
   "outputs": [],
   "source": [
    "station_pairs_15 = df_trip_with_stations_15.groupby(['Start station', 'start_latitude', 'start_longitude', 'End station', 'end_latitude', 'end_longitude']).size().reset_index(name='count')\n",
    "\n",
    "\n",
    "sorted_pairs_15 = station_pairs_15.sort_values('count', ascending=False).head(100)\n",
    "\n",
    "lines = []\n",
    "for _, row in sorted_pairs_15.iterrows():\n",
    "    start_coords = (row['start_longitude'], row['start_latitude'])\n",
    "    end_coords = (row['end_longitude'], row['end_latitude'])\n",
    "    line = LineString([start_coords, end_coords])\n",
    "    lines.append(line)\n",
    "\n",
    "geo_df_trips_15 = gpd.GeoDataFrame(sorted_pairs_15, geometry=lines, crs=crs)"
   ]
  },
  {
   "cell_type": "code",
   "execution_count": null,
   "metadata": {},
   "outputs": [],
   "source": [
    "trips_19 = pd.read_csv('datasets/201906-capitalbikeshare-tripdata.csv')\n",
    "trips_19.head()"
   ]
  },
  {
   "cell_type": "code",
   "execution_count": null,
   "metadata": {},
   "outputs": [],
   "source": [
    "df_trip_with_stations_19 = pd.merge(df_tobemerged, trips_19, on='Start station')\n",
    "df_trip_with_stations_19.rename(columns={'latitude':'start_latitude', 'longitude':'start_longitude'},inplace=True)"
   ]
  },
  {
   "cell_type": "code",
   "execution_count": null,
   "metadata": {},
   "outputs": [],
   "source": [
    "start_station_coordinates = df_trip_with_stations_19.groupby(\"Start station\").first()[[\"start_latitude\", \"start_longitude\"]].to_dict()\n",
    "\n",
    "def get_end_coordinates(start_station):\n",
    "    return start_station_coordinates[\"start_latitude\"].get(start_station), start_station_coordinates[\"start_longitude\"].get(start_station)\n",
    "\n",
    "df_trip_with_stations_19[\"end_latitude\"], df_trip_with_stations_19[\"end_longitude\"] = zip(*df_trip_with_stations_19[\"End station\"].map(get_end_coordinates))"
   ]
  },
  {
   "cell_type": "code",
   "execution_count": null,
   "metadata": {},
   "outputs": [],
   "source": [
    "station_pairs_19 = df_trip_with_stations_19.groupby(['Start station', 'start_latitude', 'start_longitude', 'End station', 'end_latitude', 'end_longitude']).size().reset_index(name='count')\n",
    "\n",
    "\n",
    "sorted_pairs_19 = station_pairs_19.sort_values('count', ascending=False).head(100)\n",
    "\n",
    "lines = []\n",
    "for _, row in sorted_pairs_19.iterrows():\n",
    "    start_coords = (row['start_longitude'], row['start_latitude'])\n",
    "    end_coords = (row['end_longitude'], row['end_latitude'])\n",
    "    line = LineString([start_coords, end_coords])\n",
    "    lines.append(line)\n",
    "\n",
    "geo_df_trips_19 = gpd.GeoDataFrame(sorted_pairs_19, geometry=lines, crs=crs)"
   ]
  },
  {
   "cell_type": "code",
   "execution_count": null,
   "metadata": {},
   "outputs": [],
   "source": [
    "trips_23 = pd.read_csv('datasets/202306-capitalbikeshare-tripdata.csv')\n",
    "trips_23.head()"
   ]
  },
  {
   "cell_type": "code",
   "execution_count": null,
   "metadata": {},
   "outputs": [],
   "source": [
    "station_pairs_23 = trips_23.groupby(['start_station_name', 'start_lat', 'start_lng', 'end_station_name', 'end_lat', 'end_lng']).size().reset_index(name='count')\n",
    "\n",
    "sorted_pairs_23 = station_pairs_23.sort_values('count', ascending=False).head(100)\n",
    "\n",
    "lines = []\n",
    "for _, row in sorted_pairs_23.iterrows():\n",
    "    start_coords = (row['start_lng'], row['start_lat'])\n",
    "    end_coords = (row['end_lng'], row['end_lat'])\n",
    "    line = LineString([start_coords, end_coords])\n",
    "    lines.append(line)\n",
    "\n",
    "geo_df_trips_23 = gpd.GeoDataFrame(sorted_pairs_23, geometry=lines, crs=crs)"
   ]
  },
  {
   "cell_type": "code",
   "execution_count": null,
   "metadata": {},
   "outputs": [],
   "source": [
    "import folium\n",
    "from folium import plugins\n",
    "\n",
    "m = washington.explore(\n",
    "    scheme=\"naturalbreaks\",\n",
    "    legend=True,  \n",
    "    k=10,  \n",
    "    tooltip=False,  \n",
    "    popup=[\"FULLNAME\"],  \n",
    "    legend_kwds=dict(colorbar=False), \n",
    "    name=\"Washington D.C\",\n",
    "    overlay = False \n",
    ")\n",
    "\n",
    "geo_df.explore(\n",
    "    m=m,  \n",
    "    color=\"blue\",  \n",
    "    marker_kwds=dict(radius=5, fill=True), \n",
    "    tooltip=['adress','capacity','num_bikes_available','num_ebikes_available'],\n",
    "    tooltip_kwds=dict(labels=True),  \n",
    "    name=\"Bike Stations\", \n",
    ")\n",
    "\n",
    "geo_df_bikes.explore(\n",
    "    m=m, \n",
    "    color=\"green\",  \n",
    "    marker_type = 'circle_marker',\n",
    "    marker_kwds=dict(radius=4, fill=True),  \n",
    "    tooltip=['bike_type','reserved'],  \n",
    "    tooltip_kwds=dict(labels=True),  \n",
    "    name=\"Available Bikes\",  \n",
    ")\n",
    "\n",
    "geo_df_trips.explore(\n",
    "    m=m,  # pass the map object\n",
    "    color=\"purple\",  \n",
    "    marker_kwds=dict(radius=8, fill=True), \n",
    "    tooltip=['count', 'Start station','End station'],  \n",
    "    tooltip_kwds=dict(labels=True),  \n",
    "    name=\"100 Most Popular Routes in 2011\",\n",
    "    show = False \n",
    ")\n",
    "\n",
    "geo_df_trips_15.explore(\n",
    "    m=m,  \n",
    "    color=\"brown\",  \n",
    "    marker_kwds=dict(radius=8, fill=True), \n",
    "    tooltip=['count', 'Start station','End station'], \n",
    "    tooltip_kwds=dict(labels=True), \n",
    "    name=\"100 Most Popular Routes in 2015\",\n",
    "    show = False\n",
    ")\n",
    "\n",
    "geo_df_trips_19.explore(\n",
    "    m=m,  \n",
    "    color=\"black\",  \n",
    "    marker_kwds=dict(radius=8, fill=True), \n",
    "    tooltip=['count', 'Start station','End station'], \n",
    "    tooltip_kwds=dict(labels=True), \n",
    "    name=\"100 Most Popular Routes in 2019\",\n",
    "    show = False\n",
    ")\n",
    "\n",
    "geo_df_trips_23.explore(\n",
    "    m=m,  \n",
    "    color=\"red\",  \n",
    "    marker_kwds=dict(radius=8, fill=True), \n",
    "    tooltip=['count', 'start_station_name','end_station_name'], \n",
    "    tooltip_kwds=dict(labels=True), \n",
    "    name=\"100 Most Popular Routes in 2023\",\n",
    "    show = False\n",
    ")\n",
    "\n",
    "folium.TileLayer(\"Stamen Terrain\", show=False).add_to(\n",
    "    m\n",
    ")  \n",
    "\n",
    "folium.LayerControl().add_to(m)  \n",
    "m.save(\"bike_trips_map.html\")\n",
    "m"
   ]
  }
 ],
 "metadata": {
  "kernelspec": {
   "display_name": "base",
   "language": "python",
   "name": "python3"
  },
  "language_info": {
   "codemirror_mode": {
    "name": "ipython",
    "version": 3
   },
   "file_extension": ".py",
   "mimetype": "text/x-python",
   "name": "python",
   "nbconvert_exporter": "python",
   "pygments_lexer": "ipython3",
   "version": "3.9.13"
  },
  "orig_nbformat": 4
 },
 "nbformat": 4,
 "nbformat_minor": 2
}
