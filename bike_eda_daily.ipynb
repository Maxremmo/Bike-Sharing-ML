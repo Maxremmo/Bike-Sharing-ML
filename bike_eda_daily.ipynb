{
 "cells": [
  {
   "cell_type": "code",
   "execution_count": 444,
   "metadata": {},
   "outputs": [],
   "source": [
    "import pandas as pd\n",
    "import datetime"
   ]
  },
  {
   "cell_type": "code",
   "execution_count": 445,
   "metadata": {},
   "outputs": [],
   "source": [
    "df = pd.read_csv(\"datasets/day.csv\")"
   ]
  },
  {
   "cell_type": "code",
   "execution_count": 446,
   "metadata": {},
   "outputs": [
    {
     "data": {
      "text/plain": [
       "11696"
      ]
     },
     "execution_count": 446,
     "metadata": {},
     "output_type": "execute_result"
    }
   ],
   "source": [
    "df.size"
   ]
  },
  {
   "cell_type": "code",
   "execution_count": 447,
   "metadata": {},
   "outputs": [
    {
     "data": {
      "text/html": [
       "<div>\n",
       "<style scoped>\n",
       "    .dataframe tbody tr th:only-of-type {\n",
       "        vertical-align: middle;\n",
       "    }\n",
       "\n",
       "    .dataframe tbody tr th {\n",
       "        vertical-align: top;\n",
       "    }\n",
       "\n",
       "    .dataframe thead th {\n",
       "        text-align: right;\n",
       "    }\n",
       "</style>\n",
       "<table border=\"1\" class=\"dataframe\">\n",
       "  <thead>\n",
       "    <tr style=\"text-align: right;\">\n",
       "      <th></th>\n",
       "      <th>instant</th>\n",
       "      <th>dteday</th>\n",
       "      <th>season</th>\n",
       "      <th>yr</th>\n",
       "      <th>mnth</th>\n",
       "      <th>holiday</th>\n",
       "      <th>weekday</th>\n",
       "      <th>workingday</th>\n",
       "      <th>weathersit</th>\n",
       "      <th>temp</th>\n",
       "      <th>atemp</th>\n",
       "      <th>hum</th>\n",
       "      <th>windspeed</th>\n",
       "      <th>casual</th>\n",
       "      <th>registered</th>\n",
       "      <th>cnt</th>\n",
       "    </tr>\n",
       "  </thead>\n",
       "  <tbody>\n",
       "    <tr>\n",
       "      <th>726</th>\n",
       "      <td>727</td>\n",
       "      <td>2012-12-27</td>\n",
       "      <td>1</td>\n",
       "      <td>1</td>\n",
       "      <td>12</td>\n",
       "      <td>0</td>\n",
       "      <td>4</td>\n",
       "      <td>1</td>\n",
       "      <td>2</td>\n",
       "      <td>0.254167</td>\n",
       "      <td>0.226642</td>\n",
       "      <td>0.652917</td>\n",
       "      <td>0.350133</td>\n",
       "      <td>247</td>\n",
       "      <td>1867</td>\n",
       "      <td>2114</td>\n",
       "    </tr>\n",
       "    <tr>\n",
       "      <th>727</th>\n",
       "      <td>728</td>\n",
       "      <td>2012-12-28</td>\n",
       "      <td>1</td>\n",
       "      <td>1</td>\n",
       "      <td>12</td>\n",
       "      <td>0</td>\n",
       "      <td>5</td>\n",
       "      <td>1</td>\n",
       "      <td>2</td>\n",
       "      <td>0.253333</td>\n",
       "      <td>0.255046</td>\n",
       "      <td>0.590000</td>\n",
       "      <td>0.155471</td>\n",
       "      <td>644</td>\n",
       "      <td>2451</td>\n",
       "      <td>3095</td>\n",
       "    </tr>\n",
       "    <tr>\n",
       "      <th>728</th>\n",
       "      <td>729</td>\n",
       "      <td>2012-12-29</td>\n",
       "      <td>1</td>\n",
       "      <td>1</td>\n",
       "      <td>12</td>\n",
       "      <td>0</td>\n",
       "      <td>6</td>\n",
       "      <td>0</td>\n",
       "      <td>2</td>\n",
       "      <td>0.253333</td>\n",
       "      <td>0.242400</td>\n",
       "      <td>0.752917</td>\n",
       "      <td>0.124383</td>\n",
       "      <td>159</td>\n",
       "      <td>1182</td>\n",
       "      <td>1341</td>\n",
       "    </tr>\n",
       "    <tr>\n",
       "      <th>729</th>\n",
       "      <td>730</td>\n",
       "      <td>2012-12-30</td>\n",
       "      <td>1</td>\n",
       "      <td>1</td>\n",
       "      <td>12</td>\n",
       "      <td>0</td>\n",
       "      <td>0</td>\n",
       "      <td>0</td>\n",
       "      <td>1</td>\n",
       "      <td>0.255833</td>\n",
       "      <td>0.231700</td>\n",
       "      <td>0.483333</td>\n",
       "      <td>0.350754</td>\n",
       "      <td>364</td>\n",
       "      <td>1432</td>\n",
       "      <td>1796</td>\n",
       "    </tr>\n",
       "    <tr>\n",
       "      <th>730</th>\n",
       "      <td>731</td>\n",
       "      <td>2012-12-31</td>\n",
       "      <td>1</td>\n",
       "      <td>1</td>\n",
       "      <td>12</td>\n",
       "      <td>0</td>\n",
       "      <td>1</td>\n",
       "      <td>1</td>\n",
       "      <td>2</td>\n",
       "      <td>0.215833</td>\n",
       "      <td>0.223487</td>\n",
       "      <td>0.577500</td>\n",
       "      <td>0.154846</td>\n",
       "      <td>439</td>\n",
       "      <td>2290</td>\n",
       "      <td>2729</td>\n",
       "    </tr>\n",
       "  </tbody>\n",
       "</table>\n",
       "</div>"
      ],
      "text/plain": [
       "     instant      dteday  season  yr  mnth  holiday  weekday  workingday  \\\n",
       "726      727  2012-12-27       1   1    12        0        4           1   \n",
       "727      728  2012-12-28       1   1    12        0        5           1   \n",
       "728      729  2012-12-29       1   1    12        0        6           0   \n",
       "729      730  2012-12-30       1   1    12        0        0           0   \n",
       "730      731  2012-12-31       1   1    12        0        1           1   \n",
       "\n",
       "     weathersit      temp     atemp       hum  windspeed  casual  registered  \\\n",
       "726           2  0.254167  0.226642  0.652917   0.350133     247        1867   \n",
       "727           2  0.253333  0.255046  0.590000   0.155471     644        2451   \n",
       "728           2  0.253333  0.242400  0.752917   0.124383     159        1182   \n",
       "729           1  0.255833  0.231700  0.483333   0.350754     364        1432   \n",
       "730           2  0.215833  0.223487  0.577500   0.154846     439        2290   \n",
       "\n",
       "      cnt  \n",
       "726  2114  \n",
       "727  3095  \n",
       "728  1341  \n",
       "729  1796  \n",
       "730  2729  "
      ]
     },
     "execution_count": 447,
     "metadata": {},
     "output_type": "execute_result"
    }
   ],
   "source": [
    "df.tail()"
   ]
  },
  {
   "cell_type": "code",
   "execution_count": 448,
   "metadata": {},
   "outputs": [],
   "source": [
    "df['temp_celsius'] = (df['temp']*41).round()"
   ]
  },
  {
   "cell_type": "code",
   "execution_count": 449,
   "metadata": {},
   "outputs": [],
   "source": [
    "df['temp_celsius_realfeel'] = (df['atemp']*50).round()"
   ]
  },
  {
   "cell_type": "code",
   "execution_count": 450,
   "metadata": {},
   "outputs": [
    {
     "data": {
      "text/plain": [
       "0      14.0\n",
       "1      15.0\n",
       "2       8.0\n",
       "3       8.0\n",
       "4       9.0\n",
       "       ... \n",
       "726    10.0\n",
       "727    10.0\n",
       "728    10.0\n",
       "729    10.0\n",
       "730     9.0\n",
       "Name: temp_celsius, Length: 731, dtype: float64"
      ]
     },
     "execution_count": 450,
     "metadata": {},
     "output_type": "execute_result"
    }
   ],
   "source": [
    "df['temp_celsius']"
   ]
  },
  {
   "cell_type": "code",
   "execution_count": 451,
   "metadata": {},
   "outputs": [],
   "source": [
    "df['dteday'] = pd.to_datetime(df['dteday'])\n",
    "\n"
   ]
  },
  {
   "cell_type": "code",
   "execution_count": 452,
   "metadata": {},
   "outputs": [],
   "source": [
    "df = df.iloc[:,[0,1,17,2,3,4,5,6,7,8,9,10,11,12,13,14,15,16]]"
   ]
  },
  {
   "cell_type": "code",
   "execution_count": 453,
   "metadata": {},
   "outputs": [
    {
     "data": {
      "text/plain": [
       "instant                           int64\n",
       "dteday                   datetime64[ns]\n",
       "temp_celsius_realfeel           float64\n",
       "season                            int64\n",
       "yr                                int64\n",
       "mnth                              int64\n",
       "holiday                           int64\n",
       "weekday                           int64\n",
       "workingday                        int64\n",
       "weathersit                        int64\n",
       "temp                            float64\n",
       "atemp                           float64\n",
       "hum                             float64\n",
       "windspeed                       float64\n",
       "casual                            int64\n",
       "registered                        int64\n",
       "cnt                               int64\n",
       "temp_celsius                    float64\n",
       "dtype: object"
      ]
     },
     "execution_count": 453,
     "metadata": {},
     "output_type": "execute_result"
    }
   ],
   "source": [
    "df.dtypes"
   ]
  },
  {
   "cell_type": "code",
   "execution_count": 454,
   "metadata": {},
   "outputs": [],
   "source": [
    "df.rename(columns={'dteday': 'dte', 'season':'season_num'}, inplace=True)"
   ]
  },
  {
   "cell_type": "code",
   "execution_count": 455,
   "metadata": {},
   "outputs": [],
   "source": [
    "df['season_name'] = df['season_num'].apply(lambda x: 'Winter' if x == 1 else 'Spring' if x == 2 else 'Summer' if x == 3 else 'Fall')"
   ]
  },
  {
   "cell_type": "code",
   "execution_count": 456,
   "metadata": {},
   "outputs": [
    {
     "data": {
      "text/plain": [
       "Summer    188\n",
       "Spring    184\n",
       "Winter    181\n",
       "Fall      178\n",
       "Name: season_name, dtype: int64"
      ]
     },
     "execution_count": 456,
     "metadata": {},
     "output_type": "execute_result"
    }
   ],
   "source": [
    "df['season_name'].value_counts()"
   ]
  },
  {
   "cell_type": "code",
   "execution_count": 457,
   "metadata": {},
   "outputs": [],
   "source": [
    "seasons_grouped = df.groupby('season_name')"
   ]
  },
  {
   "cell_type": "code",
   "execution_count": 458,
   "metadata": {},
   "outputs": [
    {
     "data": {
      "text/plain": [
       "season_name\n",
       "Fall      17.331461\n",
       "Spring    22.331522\n",
       "Summer    28.994681\n",
       "Winter    12.182320\n",
       "Name: temp_celsius, dtype: float64"
      ]
     },
     "execution_count": 458,
     "metadata": {},
     "output_type": "execute_result"
    }
   ],
   "source": [
    "seasons_grouped['temp_celsius'].mean()"
   ]
  },
  {
   "cell_type": "code",
   "execution_count": 459,
   "metadata": {},
   "outputs": [
    {
     "data": {
      "text/plain": [
       "season_name\n",
       "Fall      4728.162921\n",
       "Spring    4992.331522\n",
       "Summer    5644.303191\n",
       "Winter    2604.132597\n",
       "Name: cnt, dtype: float64"
      ]
     },
     "execution_count": 459,
     "metadata": {},
     "output_type": "execute_result"
    }
   ],
   "source": [
    "seasons_grouped['cnt'].mean()"
   ]
  },
  {
   "cell_type": "code",
   "execution_count": 460,
   "metadata": {},
   "outputs": [],
   "source": [
    "import requests\n",
    "import json \n",
    "\n",
    "class WeatherData():\n",
    "\n",
    "\n",
    "    def __init__(self):\n",
    "\n",
    "        self.base_url = \"https://archive-api.open-meteo.com/v1/archive\"\n",
    "        self.coordinates = '?latitude=38.8951&longitude=-77.0364'\n",
    "        self.timezone = '&timezone=America%2FNew_York'\n",
    "\n",
    "    def get_weather(self, start_date = '2011-01-01', end_date = '2012-12-31',\n",
    "                    daily_list = ['weathercode,temperature_2m_max,temperature_2m_min,precipitation_sum',\n",
    "                                  'windspeed_10m_max,winddirection_10m_dominant,shortwave_radiation_sum']):\n",
    "        \n",
    "        timeframe = ('&start_date='+ start_date + '&end_date=' + end_date)\n",
    "        daily = ('&daily='+ \",\".join((daily_list)))\n",
    "        api_url = (self.base_url + self.coordinates + timeframe + daily + self.timezone)\n",
    "        resp = requests.get(api_url)\n",
    "        weather_data = resp.json()\n",
    "        \n",
    "        return weather_data\n",
    "    \n",
    "    def concat_to_df(self,df,my_weather):\n",
    "        # Extract the data\n",
    "        for measure in my_weather['daily']:\n",
    "\n",
    "            daily_measure = my_weather['daily'][measure]\n",
    "            unit_of_measure = my_weather['daily_units'][measure]\n",
    "\n",
    "            # Iterate over the rows in the DataFrame\n",
    "            for index, row in df.iterrows():\n",
    "                custom_index = index \n",
    "                measure_value = daily_measure[custom_index]\n",
    "\n",
    "                # Assign the value to the respective row in the DataFrame\n",
    "                name = measure + '_' + unit_of_measure\n",
    "                df.at[index, name] = measure_value\n",
    "\n",
    "            \n",
    "dc_weather = WeatherData()\n",
    "my_weather = dc_weather.get_weather()\n",
    "dc_weather.concat_to_df(df, my_weather)"
   ]
  },
  {
   "cell_type": "code",
   "execution_count": 461,
   "metadata": {},
   "outputs": [
    {
     "data": {
      "text/html": [
       "<div>\n",
       "<style scoped>\n",
       "    .dataframe tbody tr th:only-of-type {\n",
       "        vertical-align: middle;\n",
       "    }\n",
       "\n",
       "    .dataframe tbody tr th {\n",
       "        vertical-align: top;\n",
       "    }\n",
       "\n",
       "    .dataframe thead th {\n",
       "        text-align: right;\n",
       "    }\n",
       "</style>\n",
       "<table border=\"1\" class=\"dataframe\">\n",
       "  <thead>\n",
       "    <tr style=\"text-align: right;\">\n",
       "      <th></th>\n",
       "      <th>instant</th>\n",
       "      <th>dte</th>\n",
       "      <th>temp_celsius_realfeel</th>\n",
       "      <th>season_num</th>\n",
       "      <th>yr</th>\n",
       "      <th>mnth</th>\n",
       "      <th>holiday</th>\n",
       "      <th>weekday</th>\n",
       "      <th>workingday</th>\n",
       "      <th>weathersit</th>\n",
       "      <th>temp</th>\n",
       "      <th>atemp</th>\n",
       "      <th>hum</th>\n",
       "      <th>windspeed</th>\n",
       "      <th>casual</th>\n",
       "      <th>registered</th>\n",
       "      <th>cnt</th>\n",
       "      <th>temp_celsius</th>\n",
       "      <th>season_name</th>\n",
       "      <th>time_iso8601</th>\n",
       "      <th>weathercode_wmo code</th>\n",
       "      <th>temperature_2m_max_°C</th>\n",
       "      <th>temperature_2m_min_°C</th>\n",
       "      <th>precipitation_sum_mm</th>\n",
       "      <th>windspeed_10m_max_km/h</th>\n",
       "      <th>winddirection_10m_dominant_°</th>\n",
       "      <th>shortwave_radiation_sum_MJ/m²</th>\n",
       "    </tr>\n",
       "  </thead>\n",
       "  <tbody>\n",
       "    <tr>\n",
       "      <th>0</th>\n",
       "      <td>1</td>\n",
       "      <td>2011-01-01</td>\n",
       "      <td>18.0</td>\n",
       "      <td>1</td>\n",
       "      <td>0</td>\n",
       "      <td>1</td>\n",
       "      <td>0</td>\n",
       "      <td>6</td>\n",
       "      <td>0</td>\n",
       "      <td>2</td>\n",
       "      <td>0.344167</td>\n",
       "      <td>0.363625</td>\n",
       "      <td>0.805833</td>\n",
       "      <td>0.160446</td>\n",
       "      <td>331</td>\n",
       "      <td>654</td>\n",
       "      <td>985</td>\n",
       "      <td>14.0</td>\n",
       "      <td>Winter</td>\n",
       "      <td>2011-01-01</td>\n",
       "      <td>61.0</td>\n",
       "      <td>14.7</td>\n",
       "      <td>1.3</td>\n",
       "      <td>2.5</td>\n",
       "      <td>17.7</td>\n",
       "      <td>197.0</td>\n",
       "      <td>5.59</td>\n",
       "    </tr>\n",
       "    <tr>\n",
       "      <th>1</th>\n",
       "      <td>2</td>\n",
       "      <td>2011-01-02</td>\n",
       "      <td>18.0</td>\n",
       "      <td>1</td>\n",
       "      <td>0</td>\n",
       "      <td>1</td>\n",
       "      <td>0</td>\n",
       "      <td>0</td>\n",
       "      <td>0</td>\n",
       "      <td>2</td>\n",
       "      <td>0.363478</td>\n",
       "      <td>0.353739</td>\n",
       "      <td>0.696087</td>\n",
       "      <td>0.248539</td>\n",
       "      <td>131</td>\n",
       "      <td>670</td>\n",
       "      <td>801</td>\n",
       "      <td>15.0</td>\n",
       "      <td>Winter</td>\n",
       "      <td>2011-01-02</td>\n",
       "      <td>55.0</td>\n",
       "      <td>13.8</td>\n",
       "      <td>1.8</td>\n",
       "      <td>3.0</td>\n",
       "      <td>18.9</td>\n",
       "      <td>299.0</td>\n",
       "      <td>1.25</td>\n",
       "    </tr>\n",
       "    <tr>\n",
       "      <th>2</th>\n",
       "      <td>3</td>\n",
       "      <td>2011-01-03</td>\n",
       "      <td>9.0</td>\n",
       "      <td>1</td>\n",
       "      <td>0</td>\n",
       "      <td>1</td>\n",
       "      <td>0</td>\n",
       "      <td>1</td>\n",
       "      <td>1</td>\n",
       "      <td>1</td>\n",
       "      <td>0.196364</td>\n",
       "      <td>0.189405</td>\n",
       "      <td>0.437273</td>\n",
       "      <td>0.248309</td>\n",
       "      <td>120</td>\n",
       "      <td>1229</td>\n",
       "      <td>1349</td>\n",
       "      <td>8.0</td>\n",
       "      <td>Winter</td>\n",
       "      <td>2011-01-03</td>\n",
       "      <td>1.0</td>\n",
       "      <td>3.3</td>\n",
       "      <td>-3.0</td>\n",
       "      <td>0.0</td>\n",
       "      <td>17.4</td>\n",
       "      <td>299.0</td>\n",
       "      <td>10.22</td>\n",
       "    </tr>\n",
       "    <tr>\n",
       "      <th>3</th>\n",
       "      <td>4</td>\n",
       "      <td>2011-01-04</td>\n",
       "      <td>11.0</td>\n",
       "      <td>1</td>\n",
       "      <td>0</td>\n",
       "      <td>1</td>\n",
       "      <td>0</td>\n",
       "      <td>2</td>\n",
       "      <td>1</td>\n",
       "      <td>1</td>\n",
       "      <td>0.200000</td>\n",
       "      <td>0.212122</td>\n",
       "      <td>0.590435</td>\n",
       "      <td>0.160296</td>\n",
       "      <td>108</td>\n",
       "      <td>1454</td>\n",
       "      <td>1562</td>\n",
       "      <td>8.0</td>\n",
       "      <td>Winter</td>\n",
       "      <td>2011-01-04</td>\n",
       "      <td>1.0</td>\n",
       "      <td>6.8</td>\n",
       "      <td>-4.1</td>\n",
       "      <td>0.0</td>\n",
       "      <td>11.2</td>\n",
       "      <td>215.0</td>\n",
       "      <td>9.93</td>\n",
       "    </tr>\n",
       "    <tr>\n",
       "      <th>4</th>\n",
       "      <td>5</td>\n",
       "      <td>2011-01-05</td>\n",
       "      <td>11.0</td>\n",
       "      <td>1</td>\n",
       "      <td>0</td>\n",
       "      <td>1</td>\n",
       "      <td>0</td>\n",
       "      <td>3</td>\n",
       "      <td>1</td>\n",
       "      <td>1</td>\n",
       "      <td>0.226957</td>\n",
       "      <td>0.229270</td>\n",
       "      <td>0.436957</td>\n",
       "      <td>0.186900</td>\n",
       "      <td>82</td>\n",
       "      <td>1518</td>\n",
       "      <td>1600</td>\n",
       "      <td>9.0</td>\n",
       "      <td>Winter</td>\n",
       "      <td>2011-01-05</td>\n",
       "      <td>1.0</td>\n",
       "      <td>4.1</td>\n",
       "      <td>-4.1</td>\n",
       "      <td>0.0</td>\n",
       "      <td>13.9</td>\n",
       "      <td>314.0</td>\n",
       "      <td>9.22</td>\n",
       "    </tr>\n",
       "  </tbody>\n",
       "</table>\n",
       "</div>"
      ],
      "text/plain": [
       "   instant        dte  temp_celsius_realfeel  season_num  yr  mnth  holiday  \\\n",
       "0        1 2011-01-01                   18.0           1   0     1        0   \n",
       "1        2 2011-01-02                   18.0           1   0     1        0   \n",
       "2        3 2011-01-03                    9.0           1   0     1        0   \n",
       "3        4 2011-01-04                   11.0           1   0     1        0   \n",
       "4        5 2011-01-05                   11.0           1   0     1        0   \n",
       "\n",
       "   weekday  workingday  weathersit      temp     atemp       hum  windspeed  \\\n",
       "0        6           0           2  0.344167  0.363625  0.805833   0.160446   \n",
       "1        0           0           2  0.363478  0.353739  0.696087   0.248539   \n",
       "2        1           1           1  0.196364  0.189405  0.437273   0.248309   \n",
       "3        2           1           1  0.200000  0.212122  0.590435   0.160296   \n",
       "4        3           1           1  0.226957  0.229270  0.436957   0.186900   \n",
       "\n",
       "   casual  registered   cnt  temp_celsius season_name time_iso8601  \\\n",
       "0     331         654   985          14.0      Winter   2011-01-01   \n",
       "1     131         670   801          15.0      Winter   2011-01-02   \n",
       "2     120        1229  1349           8.0      Winter   2011-01-03   \n",
       "3     108        1454  1562           8.0      Winter   2011-01-04   \n",
       "4      82        1518  1600           9.0      Winter   2011-01-05   \n",
       "\n",
       "   weathercode_wmo code  temperature_2m_max_°C  temperature_2m_min_°C  \\\n",
       "0                  61.0                   14.7                    1.3   \n",
       "1                  55.0                   13.8                    1.8   \n",
       "2                   1.0                    3.3                   -3.0   \n",
       "3                   1.0                    6.8                   -4.1   \n",
       "4                   1.0                    4.1                   -4.1   \n",
       "\n",
       "   precipitation_sum_mm  windspeed_10m_max_km/h  winddirection_10m_dominant_°  \\\n",
       "0                   2.5                    17.7                         197.0   \n",
       "1                   3.0                    18.9                         299.0   \n",
       "2                   0.0                    17.4                         299.0   \n",
       "3                   0.0                    11.2                         215.0   \n",
       "4                   0.0                    13.9                         314.0   \n",
       "\n",
       "   shortwave_radiation_sum_MJ/m²  \n",
       "0                           5.59  \n",
       "1                           1.25  \n",
       "2                          10.22  \n",
       "3                           9.93  \n",
       "4                           9.22  "
      ]
     },
     "execution_count": 461,
     "metadata": {},
     "output_type": "execute_result"
    }
   ],
   "source": [
    "pd.set_option('display.max_columns', None)\n",
    "df.head()"
   ]
  },
  {
   "cell_type": "code",
   "execution_count": 462,
   "metadata": {},
   "outputs": [
    {
     "data": {
      "text/html": [
       "<div>\n",
       "<style scoped>\n",
       "    .dataframe tbody tr th:only-of-type {\n",
       "        vertical-align: middle;\n",
       "    }\n",
       "\n",
       "    .dataframe tbody tr th {\n",
       "        vertical-align: top;\n",
       "    }\n",
       "\n",
       "    .dataframe thead th {\n",
       "        text-align: right;\n",
       "    }\n",
       "</style>\n",
       "<table border=\"1\" class=\"dataframe\">\n",
       "  <thead>\n",
       "    <tr style=\"text-align: right;\">\n",
       "      <th></th>\n",
       "      <th>instant</th>\n",
       "      <th>dte</th>\n",
       "      <th>temp_celsius_realfeel</th>\n",
       "      <th>season_num</th>\n",
       "      <th>yr</th>\n",
       "      <th>mnth</th>\n",
       "      <th>holiday</th>\n",
       "      <th>weekday</th>\n",
       "      <th>workingday</th>\n",
       "      <th>weathersit</th>\n",
       "      <th>temp</th>\n",
       "      <th>atemp</th>\n",
       "      <th>hum</th>\n",
       "      <th>windspeed</th>\n",
       "      <th>casual</th>\n",
       "      <th>registered</th>\n",
       "      <th>cnt</th>\n",
       "      <th>temp_celsius</th>\n",
       "      <th>season_name</th>\n",
       "      <th>time_iso8601</th>\n",
       "      <th>weathercode_wmo code</th>\n",
       "      <th>temperature_2m_max_°C</th>\n",
       "      <th>temperature_2m_min_°C</th>\n",
       "      <th>precipitation_sum_mm</th>\n",
       "      <th>windspeed_10m_max_km/h</th>\n",
       "      <th>winddirection_10m_dominant_°</th>\n",
       "      <th>shortwave_radiation_sum_MJ/m²</th>\n",
       "      <th>wind_direction</th>\n",
       "    </tr>\n",
       "  </thead>\n",
       "  <tbody>\n",
       "    <tr>\n",
       "      <th>0</th>\n",
       "      <td>1</td>\n",
       "      <td>2011-01-01</td>\n",
       "      <td>18.0</td>\n",
       "      <td>1</td>\n",
       "      <td>0</td>\n",
       "      <td>1</td>\n",
       "      <td>0</td>\n",
       "      <td>6</td>\n",
       "      <td>0</td>\n",
       "      <td>2</td>\n",
       "      <td>0.344167</td>\n",
       "      <td>0.363625</td>\n",
       "      <td>0.805833</td>\n",
       "      <td>0.160446</td>\n",
       "      <td>331</td>\n",
       "      <td>654</td>\n",
       "      <td>985</td>\n",
       "      <td>14.0</td>\n",
       "      <td>Winter</td>\n",
       "      <td>2011-01-01</td>\n",
       "      <td>61.0</td>\n",
       "      <td>14.7</td>\n",
       "      <td>1.3</td>\n",
       "      <td>2.5</td>\n",
       "      <td>17.7</td>\n",
       "      <td>197.0</td>\n",
       "      <td>5.59</td>\n",
       "      <td>S</td>\n",
       "    </tr>\n",
       "    <tr>\n",
       "      <th>1</th>\n",
       "      <td>2</td>\n",
       "      <td>2011-01-02</td>\n",
       "      <td>18.0</td>\n",
       "      <td>1</td>\n",
       "      <td>0</td>\n",
       "      <td>1</td>\n",
       "      <td>0</td>\n",
       "      <td>0</td>\n",
       "      <td>0</td>\n",
       "      <td>2</td>\n",
       "      <td>0.363478</td>\n",
       "      <td>0.353739</td>\n",
       "      <td>0.696087</td>\n",
       "      <td>0.248539</td>\n",
       "      <td>131</td>\n",
       "      <td>670</td>\n",
       "      <td>801</td>\n",
       "      <td>15.0</td>\n",
       "      <td>Winter</td>\n",
       "      <td>2011-01-02</td>\n",
       "      <td>55.0</td>\n",
       "      <td>13.8</td>\n",
       "      <td>1.8</td>\n",
       "      <td>3.0</td>\n",
       "      <td>18.9</td>\n",
       "      <td>299.0</td>\n",
       "      <td>1.25</td>\n",
       "      <td>NW</td>\n",
       "    </tr>\n",
       "    <tr>\n",
       "      <th>2</th>\n",
       "      <td>3</td>\n",
       "      <td>2011-01-03</td>\n",
       "      <td>9.0</td>\n",
       "      <td>1</td>\n",
       "      <td>0</td>\n",
       "      <td>1</td>\n",
       "      <td>0</td>\n",
       "      <td>1</td>\n",
       "      <td>1</td>\n",
       "      <td>1</td>\n",
       "      <td>0.196364</td>\n",
       "      <td>0.189405</td>\n",
       "      <td>0.437273</td>\n",
       "      <td>0.248309</td>\n",
       "      <td>120</td>\n",
       "      <td>1229</td>\n",
       "      <td>1349</td>\n",
       "      <td>8.0</td>\n",
       "      <td>Winter</td>\n",
       "      <td>2011-01-03</td>\n",
       "      <td>1.0</td>\n",
       "      <td>3.3</td>\n",
       "      <td>-3.0</td>\n",
       "      <td>0.0</td>\n",
       "      <td>17.4</td>\n",
       "      <td>299.0</td>\n",
       "      <td>10.22</td>\n",
       "      <td>NW</td>\n",
       "    </tr>\n",
       "    <tr>\n",
       "      <th>3</th>\n",
       "      <td>4</td>\n",
       "      <td>2011-01-04</td>\n",
       "      <td>11.0</td>\n",
       "      <td>1</td>\n",
       "      <td>0</td>\n",
       "      <td>1</td>\n",
       "      <td>0</td>\n",
       "      <td>2</td>\n",
       "      <td>1</td>\n",
       "      <td>1</td>\n",
       "      <td>0.200000</td>\n",
       "      <td>0.212122</td>\n",
       "      <td>0.590435</td>\n",
       "      <td>0.160296</td>\n",
       "      <td>108</td>\n",
       "      <td>1454</td>\n",
       "      <td>1562</td>\n",
       "      <td>8.0</td>\n",
       "      <td>Winter</td>\n",
       "      <td>2011-01-04</td>\n",
       "      <td>1.0</td>\n",
       "      <td>6.8</td>\n",
       "      <td>-4.1</td>\n",
       "      <td>0.0</td>\n",
       "      <td>11.2</td>\n",
       "      <td>215.0</td>\n",
       "      <td>9.93</td>\n",
       "      <td>SW</td>\n",
       "    </tr>\n",
       "    <tr>\n",
       "      <th>4</th>\n",
       "      <td>5</td>\n",
       "      <td>2011-01-05</td>\n",
       "      <td>11.0</td>\n",
       "      <td>1</td>\n",
       "      <td>0</td>\n",
       "      <td>1</td>\n",
       "      <td>0</td>\n",
       "      <td>3</td>\n",
       "      <td>1</td>\n",
       "      <td>1</td>\n",
       "      <td>0.226957</td>\n",
       "      <td>0.229270</td>\n",
       "      <td>0.436957</td>\n",
       "      <td>0.186900</td>\n",
       "      <td>82</td>\n",
       "      <td>1518</td>\n",
       "      <td>1600</td>\n",
       "      <td>9.0</td>\n",
       "      <td>Winter</td>\n",
       "      <td>2011-01-05</td>\n",
       "      <td>1.0</td>\n",
       "      <td>4.1</td>\n",
       "      <td>-4.1</td>\n",
       "      <td>0.0</td>\n",
       "      <td>13.9</td>\n",
       "      <td>314.0</td>\n",
       "      <td>9.22</td>\n",
       "      <td>NW</td>\n",
       "    </tr>\n",
       "  </tbody>\n",
       "</table>\n",
       "</div>"
      ],
      "text/plain": [
       "   instant        dte  temp_celsius_realfeel  season_num  yr  mnth  holiday  \\\n",
       "0        1 2011-01-01                   18.0           1   0     1        0   \n",
       "1        2 2011-01-02                   18.0           1   0     1        0   \n",
       "2        3 2011-01-03                    9.0           1   0     1        0   \n",
       "3        4 2011-01-04                   11.0           1   0     1        0   \n",
       "4        5 2011-01-05                   11.0           1   0     1        0   \n",
       "\n",
       "   weekday  workingday  weathersit      temp     atemp       hum  windspeed  \\\n",
       "0        6           0           2  0.344167  0.363625  0.805833   0.160446   \n",
       "1        0           0           2  0.363478  0.353739  0.696087   0.248539   \n",
       "2        1           1           1  0.196364  0.189405  0.437273   0.248309   \n",
       "3        2           1           1  0.200000  0.212122  0.590435   0.160296   \n",
       "4        3           1           1  0.226957  0.229270  0.436957   0.186900   \n",
       "\n",
       "   casual  registered   cnt  temp_celsius season_name time_iso8601  \\\n",
       "0     331         654   985          14.0      Winter   2011-01-01   \n",
       "1     131         670   801          15.0      Winter   2011-01-02   \n",
       "2     120        1229  1349           8.0      Winter   2011-01-03   \n",
       "3     108        1454  1562           8.0      Winter   2011-01-04   \n",
       "4      82        1518  1600           9.0      Winter   2011-01-05   \n",
       "\n",
       "   weathercode_wmo code  temperature_2m_max_°C  temperature_2m_min_°C  \\\n",
       "0                  61.0                   14.7                    1.3   \n",
       "1                  55.0                   13.8                    1.8   \n",
       "2                   1.0                    3.3                   -3.0   \n",
       "3                   1.0                    6.8                   -4.1   \n",
       "4                   1.0                    4.1                   -4.1   \n",
       "\n",
       "   precipitation_sum_mm  windspeed_10m_max_km/h  winddirection_10m_dominant_°  \\\n",
       "0                   2.5                    17.7                         197.0   \n",
       "1                   3.0                    18.9                         299.0   \n",
       "2                   0.0                    17.4                         299.0   \n",
       "3                   0.0                    11.2                         215.0   \n",
       "4                   0.0                    13.9                         314.0   \n",
       "\n",
       "   shortwave_radiation_sum_MJ/m² wind_direction  \n",
       "0                           5.59              S  \n",
       "1                           1.25             NW  \n",
       "2                          10.22             NW  \n",
       "3                           9.93             SW  \n",
       "4                           9.22             NW  "
      ]
     },
     "execution_count": 462,
     "metadata": {},
     "output_type": "execute_result"
    }
   ],
   "source": [
    "import math\n",
    "\n",
    "wind_direction_categories = {\n",
    "    'N': (337.5, 22.5),\n",
    "    'NE': (22.5, 67.5),\n",
    "    'E': (67.5, 112.5),\n",
    "    'SE': (112.5, 157.5),\n",
    "    'S': (157.5, 202.5),\n",
    "    'SW': (202.5, 247.5),\n",
    "    'W': (247.5, 292.5),\n",
    "    'NW': (292.5, 337.5)\n",
    "}\n",
    "\n",
    "def map_wind_direction(degrees):\n",
    "    for direction, (start, end) in wind_direction_categories.items():\n",
    "        if start <= degrees < end:\n",
    "            return direction\n",
    "    return ''\n",
    "\n",
    "df['wind_direction'] = df['winddirection_10m_dominant_°'].apply(lambda x: map_wind_direction(x))\n",
    "\n",
    "df.head()"
   ]
  },
  {
   "cell_type": "code",
   "execution_count": 463,
   "metadata": {},
   "outputs": [],
   "source": [
    "wind_grouped = df.groupby('windspeed_10m_max_km/h')"
   ]
  },
  {
   "cell_type": "code",
   "execution_count": 464,
   "metadata": {},
   "outputs": [],
   "source": [
    "df['windy_cat'] = df['windspeed_10m_max_km/h'].apply(lambda x: 'low' if x <= 20 else \n",
    "                                                     'medium' if x <= 30 else \n",
    "                                                     'high')"
   ]
  },
  {
   "cell_type": "code",
   "execution_count": 465,
   "metadata": {},
   "outputs": [],
   "source": [
    "windy = df.groupby(['windy_cat'])"
   ]
  },
  {
   "cell_type": "code",
   "execution_count": 466,
   "metadata": {},
   "outputs": [
    {
     "data": {
      "text/plain": [
       "count    731.000000\n",
       "mean      15.274966\n",
       "std        5.718661\n",
       "min        6.400000\n",
       "25%       11.200000\n",
       "50%       13.900000\n",
       "75%       18.300000\n",
       "max       43.200000\n",
       "Name: windspeed_10m_max_km/h, dtype: float64"
      ]
     },
     "execution_count": 466,
     "metadata": {},
     "output_type": "execute_result"
    }
   ],
   "source": [
    "df['windspeed_10m_max_km/h'].describe()"
   ]
  },
  {
   "cell_type": "code",
   "execution_count": 467,
   "metadata": {},
   "outputs": [
    {
     "data": {
      "image/png": "[encoded data removed]",
      "text/plain": [
       "<Figure size 432x288 with 1 Axes>"
      ]
     },
     "metadata": {
      "needs_background": "light"
     },
     "output_type": "display_data"
    }
   ],
   "source": [
    "import matplotlib.pyplot as plt\n",
    "\n",
    "# Plotting the data\n",
    "plt.scatter(df['windspeed_10m_max_km/h'], df['cnt'])\n",
    "plt.xlabel('windspeed km/h')\n",
    "plt.ylabel('Number of Customer Registrations')\n",
    "plt.title('Customer Registrations vs. Wind Direction')\n",
    "plt.show()"
   ]
  },
  {
   "cell_type": "code",
   "execution_count": 468,
   "metadata": {},
   "outputs": [
    {
     "data": {
      "image/png": "[encoded data removed]",
      "text/plain": [
       "<Figure size 432x288 with 1 Axes>"
      ]
     },
     "metadata": {
      "needs_background": "light"
     },
     "output_type": "display_data"
    }
   ],
   "source": [
    "import matplotlib.pyplot as plt\n",
    "\n",
    "# Plotting the data\n",
    "plt.scatter(df['shortwave_radiation_sum_MJ/m²'], df['cnt'])\n",
    "plt.xlabel('short wave radiation')\n",
    "plt.ylabel('Number of Customer Registrations')\n",
    "plt.title('Customer Registrations vs. Short Wave Radiation')\n",
    "plt.show()"
   ]
  },
  {
   "cell_type": "code",
   "execution_count": 469,
   "metadata": {},
   "outputs": [
    {
     "data": {
      "image/png": "[encoded data removed]",
      "text/plain": [
       "<Figure size 432x288 with 1 Axes>"
      ]
     },
     "metadata": {
      "needs_background": "light"
     },
     "output_type": "display_data"
    }
   ],
   "source": [
    "import matplotlib.pyplot as plt\n",
    "\n",
    "# Plotting the data\n",
    "plt.bar(df['weathercode_wmo code'], df['cnt'])\n",
    "plt.xlabel('Weathercode')\n",
    "plt.ylabel('Number of Customer Registrations')\n",
    "plt.title('Customer Registrations vs. Weather Code')\n",
    "plt.show()"
   ]
  },
  {
   "cell_type": "code",
   "execution_count": 470,
   "metadata": {},
   "outputs": [
    {
     "data": {
      "image/png": "[encoded data removed]",
      "text/plain": [
       "<Figure size 432x288 with 1 Axes>"
      ]
     },
     "metadata": {
      "needs_background": "light"
     },
     "output_type": "display_data"
    }
   ],
   "source": [
    "import matplotlib.pyplot as plt\n",
    "\n",
    "# Plotting the data\n",
    "plt.bar(df['windy_cat'], df['cnt'])\n",
    "plt.xlabel('windyness')\n",
    "plt.ylabel('Number of Customer Registrations')\n",
    "plt.title('Customer Registrations vs. Weather Code')\n",
    "plt.show()"
   ]
  }
 ],
 "metadata": {
  "kernelspec": {
   "display_name": "base",
   "language": "python",
   "name": "python3"
  },
  "language_info": {
   "codemirror_mode": {
    "name": "ipython",
    "version": 3
   },
   "file_extension": ".py",
   "mimetype": "text/x-python",
   "name": "python",
   "nbconvert_exporter": "python",
   "pygments_lexer": "ipython3",
   "version": "3.9.13"
  },
  "orig_nbformat": 4
 },
 "nbformat": 4,
 "nbformat_minor": 2
}
