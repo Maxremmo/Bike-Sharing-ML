{
 "cells": [
  {
   "cell_type": "code",
   "execution_count": 479,
   "metadata": {},
   "outputs": [],
   "source": [
    "import pandas as pd\n",
    "import numpy as np\n",
    "import datetime"
   ]
  },
  {
   "cell_type": "markdown",
   "metadata": {},
   "source": [
    "## Preparing the Data"
   ]
  },
  {
   "cell_type": "code",
   "execution_count": 480,
   "metadata": {},
   "outputs": [],
   "source": [
    "df = pd.read_csv(\"datasets/hour.csv\")"
   ]
  },
  {
   "cell_type": "code",
   "execution_count": 481,
   "metadata": {},
   "outputs": [
    {
     "data": {
      "text/plain": [
       "(17379, 17)"
      ]
     },
     "execution_count": 481,
     "metadata": {},
     "output_type": "execute_result"
    }
   ],
   "source": [
    "df.shape"
   ]
  },
  {
   "cell_type": "code",
   "execution_count": 482,
   "metadata": {},
   "outputs": [
    {
     "data": {
      "text/html": [
       "<div>\n",
       "<style scoped>\n",
       "    .dataframe tbody tr th:only-of-type {\n",
       "        vertical-align: middle;\n",
       "    }\n",
       "\n",
       "    .dataframe tbody tr th {\n",
       "        vertical-align: top;\n",
       "    }\n",
       "\n",
       "    .dataframe thead th {\n",
       "        text-align: right;\n",
       "    }\n",
       "</style>\n",
       "<table border=\"1\" class=\"dataframe\">\n",
       "  <thead>\n",
       "    <tr style=\"text-align: right;\">\n",
       "      <th></th>\n",
       "      <th>instant</th>\n",
       "      <th>dteday</th>\n",
       "      <th>season</th>\n",
       "      <th>yr</th>\n",
       "      <th>mnth</th>\n",
       "      <th>hr</th>\n",
       "      <th>holiday</th>\n",
       "      <th>weekday</th>\n",
       "      <th>workingday</th>\n",
       "      <th>weathersit</th>\n",
       "      <th>temp</th>\n",
       "      <th>atemp</th>\n",
       "      <th>hum</th>\n",
       "      <th>windspeed</th>\n",
       "      <th>casual</th>\n",
       "      <th>registered</th>\n",
       "      <th>cnt</th>\n",
       "    </tr>\n",
       "  </thead>\n",
       "  <tbody>\n",
       "    <tr>\n",
       "      <th>0</th>\n",
       "      <td>1</td>\n",
       "      <td>2011-01-01</td>\n",
       "      <td>1</td>\n",
       "      <td>0</td>\n",
       "      <td>1</td>\n",
       "      <td>0</td>\n",
       "      <td>0</td>\n",
       "      <td>6</td>\n",
       "      <td>0</td>\n",
       "      <td>1</td>\n",
       "      <td>0.24</td>\n",
       "      <td>0.2879</td>\n",
       "      <td>0.81</td>\n",
       "      <td>0.0</td>\n",
       "      <td>3</td>\n",
       "      <td>13</td>\n",
       "      <td>16</td>\n",
       "    </tr>\n",
       "    <tr>\n",
       "      <th>1</th>\n",
       "      <td>2</td>\n",
       "      <td>2011-01-01</td>\n",
       "      <td>1</td>\n",
       "      <td>0</td>\n",
       "      <td>1</td>\n",
       "      <td>1</td>\n",
       "      <td>0</td>\n",
       "      <td>6</td>\n",
       "      <td>0</td>\n",
       "      <td>1</td>\n",
       "      <td>0.22</td>\n",
       "      <td>0.2727</td>\n",
       "      <td>0.80</td>\n",
       "      <td>0.0</td>\n",
       "      <td>8</td>\n",
       "      <td>32</td>\n",
       "      <td>40</td>\n",
       "    </tr>\n",
       "    <tr>\n",
       "      <th>2</th>\n",
       "      <td>3</td>\n",
       "      <td>2011-01-01</td>\n",
       "      <td>1</td>\n",
       "      <td>0</td>\n",
       "      <td>1</td>\n",
       "      <td>2</td>\n",
       "      <td>0</td>\n",
       "      <td>6</td>\n",
       "      <td>0</td>\n",
       "      <td>1</td>\n",
       "      <td>0.22</td>\n",
       "      <td>0.2727</td>\n",
       "      <td>0.80</td>\n",
       "      <td>0.0</td>\n",
       "      <td>5</td>\n",
       "      <td>27</td>\n",
       "      <td>32</td>\n",
       "    </tr>\n",
       "    <tr>\n",
       "      <th>3</th>\n",
       "      <td>4</td>\n",
       "      <td>2011-01-01</td>\n",
       "      <td>1</td>\n",
       "      <td>0</td>\n",
       "      <td>1</td>\n",
       "      <td>3</td>\n",
       "      <td>0</td>\n",
       "      <td>6</td>\n",
       "      <td>0</td>\n",
       "      <td>1</td>\n",
       "      <td>0.24</td>\n",
       "      <td>0.2879</td>\n",
       "      <td>0.75</td>\n",
       "      <td>0.0</td>\n",
       "      <td>3</td>\n",
       "      <td>10</td>\n",
       "      <td>13</td>\n",
       "    </tr>\n",
       "    <tr>\n",
       "      <th>4</th>\n",
       "      <td>5</td>\n",
       "      <td>2011-01-01</td>\n",
       "      <td>1</td>\n",
       "      <td>0</td>\n",
       "      <td>1</td>\n",
       "      <td>4</td>\n",
       "      <td>0</td>\n",
       "      <td>6</td>\n",
       "      <td>0</td>\n",
       "      <td>1</td>\n",
       "      <td>0.24</td>\n",
       "      <td>0.2879</td>\n",
       "      <td>0.75</td>\n",
       "      <td>0.0</td>\n",
       "      <td>0</td>\n",
       "      <td>1</td>\n",
       "      <td>1</td>\n",
       "    </tr>\n",
       "  </tbody>\n",
       "</table>\n",
       "</div>"
      ],
      "text/plain": [
       "   instant      dteday  season  yr  mnth  hr  holiday  weekday  workingday  \\\n",
       "0        1  2011-01-01       1   0     1   0        0        6           0   \n",
       "1        2  2011-01-01       1   0     1   1        0        6           0   \n",
       "2        3  2011-01-01       1   0     1   2        0        6           0   \n",
       "3        4  2011-01-01       1   0     1   3        0        6           0   \n",
       "4        5  2011-01-01       1   0     1   4        0        6           0   \n",
       "\n",
       "   weathersit  temp   atemp   hum  windspeed  casual  registered  cnt  \n",
       "0           1  0.24  0.2879  0.81        0.0       3          13   16  \n",
       "1           1  0.22  0.2727  0.80        0.0       8          32   40  \n",
       "2           1  0.22  0.2727  0.80        0.0       5          27   32  \n",
       "3           1  0.24  0.2879  0.75        0.0       3          10   13  \n",
       "4           1  0.24  0.2879  0.75        0.0       0           1    1  "
      ]
     },
     "execution_count": 482,
     "metadata": {},
     "output_type": "execute_result"
    }
   ],
   "source": [
    "df.head()"
   ]
  },
  {
   "cell_type": "code",
   "execution_count": 483,
   "metadata": {},
   "outputs": [
    {
     "data": {
      "text/plain": [
       "instant       False\n",
       "dteday        False\n",
       "season        False\n",
       "yr            False\n",
       "mnth          False\n",
       "hr            False\n",
       "holiday       False\n",
       "weekday       False\n",
       "workingday    False\n",
       "weathersit    False\n",
       "temp          False\n",
       "atemp         False\n",
       "hum           False\n",
       "windspeed     False\n",
       "casual        False\n",
       "registered    False\n",
       "cnt           False\n",
       "dtype: bool"
      ]
     },
     "execution_count": 483,
     "metadata": {},
     "output_type": "execute_result"
    }
   ],
   "source": [
    "df.isna().any()"
   ]
  },
  {
   "cell_type": "code",
   "execution_count": 484,
   "metadata": {},
   "outputs": [],
   "source": [
    "df['dteday'] = pd.to_datetime(df['dteday'])\n",
    "df['dtime'] = df.apply(lambda row: datetime.datetime(year=row['dteday'].year, month=row['dteday'].month,\n",
    "                                                      day=row['dteday'].day, hour=row['hr']), axis=1)\n",
    "\n"
   ]
  },
  {
   "cell_type": "code",
   "execution_count": 485,
   "metadata": {},
   "outputs": [
    {
     "data": {
      "text/plain": [
       "instant                int64\n",
       "dteday        datetime64[ns]\n",
       "season                 int64\n",
       "yr                     int64\n",
       "mnth                   int64\n",
       "hr                     int64\n",
       "holiday                int64\n",
       "weekday                int64\n",
       "workingday             int64\n",
       "weathersit             int64\n",
       "temp                 float64\n",
       "atemp                float64\n",
       "hum                  float64\n",
       "windspeed            float64\n",
       "casual                 int64\n",
       "registered             int64\n",
       "cnt                    int64\n",
       "dtime         datetime64[ns]\n",
       "dtype: object"
      ]
     },
     "execution_count": 485,
     "metadata": {},
     "output_type": "execute_result"
    }
   ],
   "source": [
    "df.dtypes"
   ]
  },
  {
   "cell_type": "code",
   "execution_count": 486,
   "metadata": {},
   "outputs": [],
   "source": [
    "df.rename(columns={'dteday': 'dte', 'season':'season_num', 'cnt':'total'}, inplace=True)"
   ]
  },
  {
   "cell_type": "code",
   "execution_count": 487,
   "metadata": {},
   "outputs": [],
   "source": [
    "df['season_name'] = df['season_num'].apply(lambda x: \n",
    "                                           'winter' if x == 1 else \n",
    "                                           'spring' if x == 2 else \n",
    "                                           'summer' if x == 3 else \n",
    "                                           'fall')"
   ]
  },
  {
   "cell_type": "markdown",
   "metadata": {},
   "source": [
    "#### Unnormalizing existing weather data, adding more from open-meteo.com Historical Weather API\n",
    "\n",
    "\n",
    "temp : Normalized temperature in Celsius. The values are derived via (t-t_min)/(t_max-t_min), t_min=-8, t_max=+39 (only in hourly scale)\n",
    "\n",
    "atemp: Normalized feeling temperature in Celsius. The values are derived via (t-t_min)/(t_max-t_min), t_min=-16, t_max+50 (only in hourly scale)\n",
    "\n",
    "hum: Normalized humidity. The values are divided to 100 (max)\n",
    "\n",
    "windspeed: Normalized wind speed. The values are divided to 67 (max)\n",
    "\n",
    "Adding Precipitation, Cloud Cover, Windspeed, Temperature\n"
   ]
  },
  {
   "cell_type": "code",
   "execution_count": 488,
   "metadata": {},
   "outputs": [],
   "source": [
    "df['humidity'] = df['hum'] * 100\n",
    "df.drop(['temp', 'atemp', 'hum','windspeed'], axis=1, inplace=True)"
   ]
  },
  {
   "cell_type": "markdown",
   "metadata": {},
   "source": [
    "### Create Weather API module\n"
   ]
  },
  {
   "cell_type": "code",
   "execution_count": 489,
   "metadata": {},
   "outputs": [],
   "source": [
    "import requests\n",
    "import json \n",
    "\n",
    "class WeatherData():\n",
    "\n",
    "\n",
    "    def __init__(self):\n",
    "\n",
    "        self.base_url = \"https://archive-api.open-meteo.com/v1/archive\"\n",
    "        self.coordinates = '?latitude=38.8951&longitude=-77.0364'\n",
    "        self.timezone = '&timezone=America%2FNew_York'\n",
    "\n",
    "    def get_weather(self, start_date = '2011-01-01', end_date = '2012-12-31', \n",
    "                        hourly_list=['precipitation,cloudcover,windspeed_10m','temperature_2m']):\n",
    "            \n",
    "            timeframe = ('&start_date='+ start_date + '&end_date=' + end_date)\n",
    "            hourly = ('&hourly=' + (\",\".join(hourly_list)))\n",
    "            api_url = (self.base_url + self.coordinates + timeframe + hourly + self.timezone)\n",
    "            resp = requests.get(api_url)\n",
    "            weather_data = resp.json()\n",
    "            \n",
    "            return weather_data\n",
    "    \n",
    "    def concat_to_df(self,df,my_weather):\n",
    "        # Extract the data\n",
    "        for measure in my_weather['hourly']:\n",
    "\n",
    "            hourly_measure = my_weather['hourly'][measure]\n",
    "            unit_of_measure = my_weather['hourly_units'][measure]\n",
    "\n",
    "            # Iterate over the rows in the DataFrame\n",
    "            for index, row in df.iterrows():\n",
    "                custom_index = index \n",
    "                measure_value = hourly_measure[custom_index]\n",
    "\n",
    "                # Assign the value to the respective row in the DataFrame\n",
    "                name = measure + '_' + unit_of_measure\n",
    "                df.at[index, name] = measure_value\n",
    "\n",
    "            \n",
    "dc_weather = WeatherData()\n",
    "my_weather = dc_weather.get_weather()"
   ]
  },
  {
   "cell_type": "code",
   "execution_count": 490,
   "metadata": {},
   "outputs": [],
   "source": [
    "# Extract the hourly data from the JSON object\n",
    "hourly_data = my_weather['hourly']\n",
    "\n",
    "df_api = pd.DataFrame(hourly_data)"
   ]
  },
  {
   "cell_type": "code",
   "execution_count": 491,
   "metadata": {},
   "outputs": [],
   "source": [
    "df_api['dtime'] = pd.to_datetime(df_api['time'])\n",
    "df_api['temperature_2m'] = round(df_api['temperature_2m'])\n",
    "df_api.rename(columns={'temperature_2m': 'temperature', 'windspeed_10m': 'windspeed'}, inplace=True)\n",
    "df.rename(columns={'season_name': 'season', 'cnt':'total'})\n",
    "df_api.drop('time',axis=1, inplace=True)\n",
    "df.drop(['dte', 'mnth', 'hr', 'yr','instant'], axis=1, inplace=True)"
   ]
  },
  {
   "cell_type": "markdown",
   "metadata": {},
   "source": [
    "#### Merging new weatherdata with exisiting"
   ]
  },
  {
   "cell_type": "code",
   "execution_count": 492,
   "metadata": {},
   "outputs": [],
   "source": [
    "final_df = df.merge(df_api, on='dtime', how='left')\n",
    "df_complete = final_df.copy()"
   ]
  },
  {
   "cell_type": "code",
   "execution_count": 493,
   "metadata": {},
   "outputs": [
    {
     "data": {
      "text/plain": [
       "season_num              int64\n",
       "holiday                 int64\n",
       "weekday                 int64\n",
       "workingday              int64\n",
       "weathersit              int64\n",
       "casual                  int64\n",
       "registered              int64\n",
       "total                   int64\n",
       "dtime          datetime64[ns]\n",
       "season_name            object\n",
       "humidity              float64\n",
       "dtype: object"
      ]
     },
     "execution_count": 493,
     "metadata": {},
     "output_type": "execute_result"
    }
   ],
   "source": [
    "df.dtypes"
   ]
  },
  {
   "cell_type": "code",
   "execution_count": 494,
   "metadata": {},
   "outputs": [
    {
     "data": {
      "text/html": [
       "<div>\n",
       "<style scoped>\n",
       "    .dataframe tbody tr th:only-of-type {\n",
       "        vertical-align: middle;\n",
       "    }\n",
       "\n",
       "    .dataframe tbody tr th {\n",
       "        vertical-align: top;\n",
       "    }\n",
       "\n",
       "    .dataframe thead th {\n",
       "        text-align: right;\n",
       "    }\n",
       "</style>\n",
       "<table border=\"1\" class=\"dataframe\">\n",
       "  <thead>\n",
       "    <tr style=\"text-align: right;\">\n",
       "      <th></th>\n",
       "      <th>season_num</th>\n",
       "      <th>holiday</th>\n",
       "      <th>weekday</th>\n",
       "      <th>workingday</th>\n",
       "      <th>weathersit</th>\n",
       "      <th>casual</th>\n",
       "      <th>registered</th>\n",
       "      <th>total</th>\n",
       "      <th>dtime</th>\n",
       "      <th>season_name</th>\n",
       "      <th>humidity</th>\n",
       "      <th>precipitation</th>\n",
       "      <th>cloudcover</th>\n",
       "      <th>windspeed</th>\n",
       "      <th>temperature</th>\n",
       "    </tr>\n",
       "  </thead>\n",
       "  <tbody>\n",
       "    <tr>\n",
       "      <th>0</th>\n",
       "      <td>1</td>\n",
       "      <td>0</td>\n",
       "      <td>6</td>\n",
       "      <td>0</td>\n",
       "      <td>1</td>\n",
       "      <td>3</td>\n",
       "      <td>13</td>\n",
       "      <td>16</td>\n",
       "      <td>2011-01-01 00:00:00</td>\n",
       "      <td>winter</td>\n",
       "      <td>81.0</td>\n",
       "      <td>0.0</td>\n",
       "      <td>20</td>\n",
       "      <td>8.3</td>\n",
       "      <td>2.0</td>\n",
       "    </tr>\n",
       "    <tr>\n",
       "      <th>1</th>\n",
       "      <td>1</td>\n",
       "      <td>0</td>\n",
       "      <td>6</td>\n",
       "      <td>0</td>\n",
       "      <td>1</td>\n",
       "      <td>8</td>\n",
       "      <td>32</td>\n",
       "      <td>40</td>\n",
       "      <td>2011-01-01 01:00:00</td>\n",
       "      <td>winter</td>\n",
       "      <td>80.0</td>\n",
       "      <td>0.0</td>\n",
       "      <td>7</td>\n",
       "      <td>8.8</td>\n",
       "      <td>2.0</td>\n",
       "    </tr>\n",
       "    <tr>\n",
       "      <th>2</th>\n",
       "      <td>1</td>\n",
       "      <td>0</td>\n",
       "      <td>6</td>\n",
       "      <td>0</td>\n",
       "      <td>1</td>\n",
       "      <td>5</td>\n",
       "      <td>27</td>\n",
       "      <td>32</td>\n",
       "      <td>2011-01-01 02:00:00</td>\n",
       "      <td>winter</td>\n",
       "      <td>80.0</td>\n",
       "      <td>0.0</td>\n",
       "      <td>8</td>\n",
       "      <td>8.4</td>\n",
       "      <td>2.0</td>\n",
       "    </tr>\n",
       "    <tr>\n",
       "      <th>3</th>\n",
       "      <td>1</td>\n",
       "      <td>0</td>\n",
       "      <td>6</td>\n",
       "      <td>0</td>\n",
       "      <td>1</td>\n",
       "      <td>3</td>\n",
       "      <td>10</td>\n",
       "      <td>13</td>\n",
       "      <td>2011-01-01 03:00:00</td>\n",
       "      <td>winter</td>\n",
       "      <td>75.0</td>\n",
       "      <td>0.0</td>\n",
       "      <td>0</td>\n",
       "      <td>8.3</td>\n",
       "      <td>1.0</td>\n",
       "    </tr>\n",
       "    <tr>\n",
       "      <th>4</th>\n",
       "      <td>1</td>\n",
       "      <td>0</td>\n",
       "      <td>6</td>\n",
       "      <td>0</td>\n",
       "      <td>1</td>\n",
       "      <td>0</td>\n",
       "      <td>1</td>\n",
       "      <td>1</td>\n",
       "      <td>2011-01-01 04:00:00</td>\n",
       "      <td>winter</td>\n",
       "      <td>75.0</td>\n",
       "      <td>0.0</td>\n",
       "      <td>30</td>\n",
       "      <td>9.3</td>\n",
       "      <td>1.0</td>\n",
       "    </tr>\n",
       "  </tbody>\n",
       "</table>\n",
       "</div>"
      ],
      "text/plain": [
       "   season_num  holiday  weekday  workingday  weathersit  casual  registered  \\\n",
       "0           1        0        6           0           1       3          13   \n",
       "1           1        0        6           0           1       8          32   \n",
       "2           1        0        6           0           1       5          27   \n",
       "3           1        0        6           0           1       3          10   \n",
       "4           1        0        6           0           1       0           1   \n",
       "\n",
       "   total               dtime season_name  humidity  precipitation  cloudcover  \\\n",
       "0     16 2011-01-01 00:00:00      winter      81.0            0.0          20   \n",
       "1     40 2011-01-01 01:00:00      winter      80.0            0.0           7   \n",
       "2     32 2011-01-01 02:00:00      winter      80.0            0.0           8   \n",
       "3     13 2011-01-01 03:00:00      winter      75.0            0.0           0   \n",
       "4      1 2011-01-01 04:00:00      winter      75.0            0.0          30   \n",
       "\n",
       "   windspeed  temperature  \n",
       "0        8.3          2.0  \n",
       "1        8.8          2.0  \n",
       "2        8.4          2.0  \n",
       "3        8.3          1.0  \n",
       "4        9.3          1.0  "
      ]
     },
     "execution_count": 494,
     "metadata": {},
     "output_type": "execute_result"
    }
   ],
   "source": [
    "df_complete.head()"
   ]
  },
  {
   "cell_type": "code",
   "execution_count": 495,
   "metadata": {},
   "outputs": [],
   "source": [
    "df_complete['cloud_category'] = df_complete['cloudcover'].apply(lambda x: \n",
    "                                          'No Clouds' if x <= 10 else\n",
    "                                          'Low Clouds' if x <= 30 else\n",
    "                                          'Medium Clouds' if x <= 50 else\n",
    "                                          'Very Cloudy' if x <= 85 else\n",
    "                                          'Fully Covered' )"
   ]
  },
  {
   "cell_type": "code",
   "execution_count": 496,
   "metadata": {},
   "outputs": [],
   "source": [
    "df_complete['wind_category'] = df_complete['windspeed'].apply(lambda x: 'low' if x <= 20 else \n",
    "                                                     'medium' if x <= 30 else \n",
    "                                                     'high')"
   ]
  },
  {
   "cell_type": "code",
   "execution_count": 497,
   "metadata": {},
   "outputs": [],
   "source": [
    "df_complete = df_complete[['dtime','season_name','weekday','workingday','holiday','total','casual',\n",
    "         'registered','temperature','precipitation','humidity', 'windspeed','wind_category','cloudcover','cloud_category']]"
   ]
  },
  {
   "cell_type": "code",
   "execution_count": 498,
   "metadata": {},
   "outputs": [
    {
     "data": {
      "text/plain": [
       "dtime             datetime64[ns]\n",
       "season_name               object\n",
       "weekday                    int64\n",
       "workingday                 int64\n",
       "holiday                    int64\n",
       "total                      int64\n",
       "casual                     int64\n",
       "registered                 int64\n",
       "temperature              float64\n",
       "precipitation            float64\n",
       "humidity                 float64\n",
       "windspeed                float64\n",
       "wind_category             object\n",
       "cloudcover                 int64\n",
       "cloud_category            object\n",
       "dtype: object"
      ]
     },
     "execution_count": 498,
     "metadata": {},
     "output_type": "execute_result"
    }
   ],
   "source": [
    "df_complete.dtypes"
   ]
  },
  {
   "cell_type": "code",
   "execution_count": 499,
   "metadata": {},
   "outputs": [],
   "source": [
    "df_complete['season_name'] = df_complete['season_name'].astype('category')\n",
    "df_complete['temperature'] = df_complete['temperature'].astype('int')\n",
    "df_complete['humidity'] = df_complete['humidity'].astype('int')\n",
    "df_complete['windspeed'] = df_complete['windspeed'].astype('int')\n",
    "df_complete['wind_category'] = df_complete['wind_category'].astype('category')\n",
    "df_complete['cloudcover'] = df_complete['cloudcover'].astype('int')\n",
    "df_complete['cloud_category'] = df_complete['cloud_category'].astype('category')\n"
   ]
  },
  {
   "cell_type": "code",
   "execution_count": 500,
   "metadata": {},
   "outputs": [
    {
     "data": {
      "text/plain": [
       "dtime             datetime64[ns]\n",
       "season_name             category\n",
       "weekday                    int64\n",
       "workingday                 int64\n",
       "holiday                    int64\n",
       "total                      int64\n",
       "casual                     int64\n",
       "registered                 int64\n",
       "temperature                int64\n",
       "precipitation            float64\n",
       "humidity                   int64\n",
       "windspeed                  int64\n",
       "wind_category           category\n",
       "cloudcover                 int64\n",
       "cloud_category          category\n",
       "dtype: object"
      ]
     },
     "execution_count": 500,
     "metadata": {},
     "output_type": "execute_result"
    }
   ],
   "source": [
    "df_complete.dtypes"
   ]
  },
  {
   "cell_type": "code",
   "execution_count": 501,
   "metadata": {},
   "outputs": [
    {
     "data": {
      "text/plain": [
       "low       16633\n",
       "medium      705\n",
       "high         41\n",
       "Name: wind_category, dtype: int64"
      ]
     },
     "execution_count": 501,
     "metadata": {},
     "output_type": "execute_result"
    }
   ],
   "source": [
    "df_complete['wind_category'].value_counts()"
   ]
  },
  {
   "cell_type": "code",
   "execution_count": 502,
   "metadata": {},
   "outputs": [],
   "source": [
    "stormy_days = df_complete.loc[(df_complete['wind_category']== 'medium')| (df_complete['wind_category']== 'high') & (df_complete['cloud_category'] == 'Fully Covered') | (df_complete['cloud_category'] == 'Very Cloudy')]"
   ]
  },
  {
   "cell_type": "code",
   "execution_count": 503,
   "metadata": {},
   "outputs": [],
   "source": [
    "calm_days = df_complete.loc[(df_complete['wind_category']== 'low') & (df_complete['cloud_category'] == 'No Clouds')]"
   ]
  },
  {
   "cell_type": "code",
   "execution_count": 504,
   "metadata": {},
   "outputs": [
    {
     "data": {
      "text/plain": [
       "(3074, 15)"
      ]
     },
     "execution_count": 504,
     "metadata": {},
     "output_type": "execute_result"
    }
   ],
   "source": [
    "stormy_days.shape"
   ]
  },
  {
   "cell_type": "markdown",
   "metadata": {},
   "source": [
    "## Plotting"
   ]
  },
  {
   "cell_type": "code",
   "execution_count": 505,
   "metadata": {},
   "outputs": [],
   "source": [
    "import seaborn as sns\n",
    "import matplotlib.pyplot as plt"
   ]
  },
  {
   "cell_type": "code",
   "execution_count": 506,
   "metadata": {},
   "outputs": [
    {
     "data": {
      "image/png": "[encoded data removed]",
      "text/plain": [
       "<Figure size 1080x576 with 1 Axes>"
      ]
     },
     "metadata": {
      "needs_background": "light"
     },
     "output_type": "display_data"
    }
   ],
   "source": [
    "fig,ax=plt.subplots(figsize=(15,8))\n",
    "#Violin plot for yearly distribution of counts\n",
    "sns.violinplot(x='wind_category',y='total',data=df_complete)\n",
    "ax.set_title('Rental distribution at Wind Categories')\n",
    "plt.show()"
   ]
  },
  {
   "cell_type": "code",
   "execution_count": 507,
   "metadata": {},
   "outputs": [
    {
     "data": {
      "text/html": [
       "<div>\n",
       "<style scoped>\n",
       "    .dataframe tbody tr th:only-of-type {\n",
       "        vertical-align: middle;\n",
       "    }\n",
       "\n",
       "    .dataframe tbody tr th {\n",
       "        vertical-align: top;\n",
       "    }\n",
       "\n",
       "    .dataframe thead th {\n",
       "        text-align: right;\n",
       "    }\n",
       "</style>\n",
       "<table border=\"1\" class=\"dataframe\">\n",
       "  <thead>\n",
       "    <tr style=\"text-align: right;\">\n",
       "      <th></th>\n",
       "      <th>weekday</th>\n",
       "      <th>workingday</th>\n",
       "      <th>holiday</th>\n",
       "      <th>total</th>\n",
       "      <th>casual</th>\n",
       "      <th>registered</th>\n",
       "      <th>temperature</th>\n",
       "      <th>precipitation</th>\n",
       "      <th>humidity</th>\n",
       "      <th>windspeed</th>\n",
       "      <th>cloudcover</th>\n",
       "    </tr>\n",
       "  </thead>\n",
       "  <tbody>\n",
       "    <tr>\n",
       "      <th>weekday</th>\n",
       "      <td>1.000000</td>\n",
       "      <td>0.035955</td>\n",
       "      <td>-0.102088</td>\n",
       "      <td>0.026900</td>\n",
       "      <td>0.032721</td>\n",
       "      <td>0.021578</td>\n",
       "      <td>-0.001986</td>\n",
       "      <td>-0.000239</td>\n",
       "      <td>-0.037313</td>\n",
       "      <td>0.023780</td>\n",
       "      <td>-0.022685</td>\n",
       "    </tr>\n",
       "    <tr>\n",
       "      <th>workingday</th>\n",
       "      <td>0.035955</td>\n",
       "      <td>1.000000</td>\n",
       "      <td>-0.252471</td>\n",
       "      <td>0.030284</td>\n",
       "      <td>-0.300942</td>\n",
       "      <td>0.134326</td>\n",
       "      <td>0.053202</td>\n",
       "      <td>0.008495</td>\n",
       "      <td>0.015693</td>\n",
       "      <td>-0.007449</td>\n",
       "      <td>0.016195</td>\n",
       "    </tr>\n",
       "    <tr>\n",
       "      <th>holiday</th>\n",
       "      <td>-0.102088</td>\n",
       "      <td>-0.252471</td>\n",
       "      <td>1.000000</td>\n",
       "      <td>-0.030927</td>\n",
       "      <td>0.031564</td>\n",
       "      <td>-0.047345</td>\n",
       "      <td>-0.023588</td>\n",
       "      <td>-0.003755</td>\n",
       "      <td>-0.010665</td>\n",
       "      <td>0.009640</td>\n",
       "      <td>-0.018282</td>\n",
       "    </tr>\n",
       "    <tr>\n",
       "      <th>total</th>\n",
       "      <td>0.026900</td>\n",
       "      <td>0.030284</td>\n",
       "      <td>-0.030927</td>\n",
       "      <td>1.000000</td>\n",
       "      <td>0.694564</td>\n",
       "      <td>0.972151</td>\n",
       "      <td>0.410885</td>\n",
       "      <td>-0.059560</td>\n",
       "      <td>-0.323104</td>\n",
       "      <td>-0.086203</td>\n",
       "      <td>-0.048161</td>\n",
       "    </tr>\n",
       "    <tr>\n",
       "      <th>casual</th>\n",
       "      <td>0.032721</td>\n",
       "      <td>-0.300942</td>\n",
       "      <td>0.031564</td>\n",
       "      <td>0.694564</td>\n",
       "      <td>1.000000</td>\n",
       "      <td>0.506618</td>\n",
       "      <td>0.473846</td>\n",
       "      <td>-0.044877</td>\n",
       "      <td>-0.347124</td>\n",
       "      <td>-0.051749</td>\n",
       "      <td>-0.043106</td>\n",
       "    </tr>\n",
       "    <tr>\n",
       "      <th>registered</th>\n",
       "      <td>0.021578</td>\n",
       "      <td>0.134326</td>\n",
       "      <td>-0.047345</td>\n",
       "      <td>0.972151</td>\n",
       "      <td>0.506618</td>\n",
       "      <td>1.000000</td>\n",
       "      <td>0.338051</td>\n",
       "      <td>-0.056758</td>\n",
       "      <td>-0.274133</td>\n",
       "      <td>-0.086449</td>\n",
       "      <td>-0.043675</td>\n",
       "    </tr>\n",
       "    <tr>\n",
       "      <th>temperature</th>\n",
       "      <td>-0.001986</td>\n",
       "      <td>0.053202</td>\n",
       "      <td>-0.023588</td>\n",
       "      <td>0.410885</td>\n",
       "      <td>0.473846</td>\n",
       "      <td>0.338051</td>\n",
       "      <td>1.000000</td>\n",
       "      <td>0.049823</td>\n",
       "      <td>-0.043288</td>\n",
       "      <td>-0.164960</td>\n",
       "      <td>0.006452</td>\n",
       "    </tr>\n",
       "    <tr>\n",
       "      <th>precipitation</th>\n",
       "      <td>-0.000239</td>\n",
       "      <td>0.008495</td>\n",
       "      <td>-0.003755</td>\n",
       "      <td>-0.059560</td>\n",
       "      <td>-0.044877</td>\n",
       "      <td>-0.056758</td>\n",
       "      <td>0.049823</td>\n",
       "      <td>1.000000</td>\n",
       "      <td>0.213802</td>\n",
       "      <td>0.091544</td>\n",
       "      <td>0.270807</td>\n",
       "    </tr>\n",
       "    <tr>\n",
       "      <th>humidity</th>\n",
       "      <td>-0.037313</td>\n",
       "      <td>0.015693</td>\n",
       "      <td>-0.010665</td>\n",
       "      <td>-0.323104</td>\n",
       "      <td>-0.347124</td>\n",
       "      <td>-0.274133</td>\n",
       "      <td>-0.043288</td>\n",
       "      <td>0.213802</td>\n",
       "      <td>1.000000</td>\n",
       "      <td>-0.201671</td>\n",
       "      <td>0.397561</td>\n",
       "    </tr>\n",
       "    <tr>\n",
       "      <th>windspeed</th>\n",
       "      <td>0.023780</td>\n",
       "      <td>-0.007449</td>\n",
       "      <td>0.009640</td>\n",
       "      <td>-0.086203</td>\n",
       "      <td>-0.051749</td>\n",
       "      <td>-0.086449</td>\n",
       "      <td>-0.164960</td>\n",
       "      <td>0.091544</td>\n",
       "      <td>-0.201671</td>\n",
       "      <td>1.000000</td>\n",
       "      <td>0.052907</td>\n",
       "    </tr>\n",
       "    <tr>\n",
       "      <th>cloudcover</th>\n",
       "      <td>-0.022685</td>\n",
       "      <td>0.016195</td>\n",
       "      <td>-0.018282</td>\n",
       "      <td>-0.048161</td>\n",
       "      <td>-0.043106</td>\n",
       "      <td>-0.043675</td>\n",
       "      <td>0.006452</td>\n",
       "      <td>0.270807</td>\n",
       "      <td>0.397561</td>\n",
       "      <td>0.052907</td>\n",
       "      <td>1.000000</td>\n",
       "    </tr>\n",
       "  </tbody>\n",
       "</table>\n",
       "</div>"
      ],
      "text/plain": [
       "                weekday  workingday   holiday     total    casual  registered  \\\n",
       "weekday        1.000000    0.035955 -0.102088  0.026900  0.032721    0.021578   \n",
       "workingday     0.035955    1.000000 -0.252471  0.030284 -0.300942    0.134326   \n",
       "holiday       -0.102088   -0.252471  1.000000 -0.030927  0.031564   -0.047345   \n",
       "total          0.026900    0.030284 -0.030927  1.000000  0.694564    0.972151   \n",
       "casual         0.032721   -0.300942  0.031564  0.694564  1.000000    0.506618   \n",
       "registered     0.021578    0.134326 -0.047345  0.972151  0.506618    1.000000   \n",
       "temperature   -0.001986    0.053202 -0.023588  0.410885  0.473846    0.338051   \n",
       "precipitation -0.000239    0.008495 -0.003755 -0.059560 -0.044877   -0.056758   \n",
       "humidity      -0.037313    0.015693 -0.010665 -0.323104 -0.347124   -0.274133   \n",
       "windspeed      0.023780   -0.007449  0.009640 -0.086203 -0.051749   -0.086449   \n",
       "cloudcover    -0.022685    0.016195 -0.018282 -0.048161 -0.043106   -0.043675   \n",
       "\n",
       "               temperature  precipitation  humidity  windspeed  cloudcover  \n",
       "weekday          -0.001986      -0.000239 -0.037313   0.023780   -0.022685  \n",
       "workingday        0.053202       0.008495  0.015693  -0.007449    0.016195  \n",
       "holiday          -0.023588      -0.003755 -0.010665   0.009640   -0.018282  \n",
       "total             0.410885      -0.059560 -0.323104  -0.086203   -0.048161  \n",
       "casual            0.473846      -0.044877 -0.347124  -0.051749   -0.043106  \n",
       "registered        0.338051      -0.056758 -0.274133  -0.086449   -0.043675  \n",
       "temperature       1.000000       0.049823 -0.043288  -0.164960    0.006452  \n",
       "precipitation     0.049823       1.000000  0.213802   0.091544    0.270807  \n",
       "humidity         -0.043288       0.213802  1.000000  -0.201671    0.397561  \n",
       "windspeed        -0.164960       0.091544 -0.201671   1.000000    0.052907  \n",
       "cloudcover        0.006452       0.270807  0.397561   0.052907    1.000000  "
      ]
     },
     "metadata": {},
     "output_type": "display_data"
    }
   ],
   "source": [
    "corr_matrix = df_complete.corr()\n",
    "display(corr_matrix)"
   ]
  },
  {
   "cell_type": "code",
   "execution_count": 508,
   "metadata": {},
   "outputs": [
    {
     "data": {
      "text/plain": [
       "<AxesSubplot:>"
      ]
     },
     "execution_count": 508,
     "metadata": {},
     "output_type": "execute_result"
    },
    {
     "data": {
      "image/png": "[encoded data removed]",
      "text/plain": [
       "<Figure size 720x720 with 2 Axes>"
      ]
     },
     "metadata": {
      "needs_background": "light"
     },
     "output_type": "display_data"
    }
   ],
   "source": [
    "fig, ax = plt.subplots(figsize=(10,10))\n",
    "mask = np.triu(np.ones_like(corr_matrix, dtype=bool))\n",
    "sns.heatmap(corr_matrix, annot=True, mask=mask, linewidths=.5, ax=ax)"
   ]
  }
 ],
 "metadata": {
  "kernelspec": {
   "display_name": "base",
   "language": "python",
   "name": "python3"
  },
  "language_info": {
   "codemirror_mode": {
    "name": "ipython",
    "version": 3
   },
   "file_extension": ".py",
   "mimetype": "text/x-python",
   "name": "python",
   "nbconvert_exporter": "python",
   "pygments_lexer": "ipython3",
   "version": "3.9.13"
  },
  "orig_nbformat": 4
 },
 "nbformat": 4,
 "nbformat_minor": 2
}
