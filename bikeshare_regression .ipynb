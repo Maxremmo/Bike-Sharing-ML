{
 "cells": [
  {
   "cell_type": "code",
   "execution_count": 136,
   "metadata": {},
   "outputs": [],
   "source": [
    "import pandas as pd \n",
    "import numpy as np \n",
    "import seaborn as sns \n",
    "import matplotlib.pyplot as plt\n",
    "import datetime as dt\n",
    "import os \n",
    "\n",
    "\n"
   ]
  },
  {
   "cell_type": "code",
   "execution_count": 137,
   "metadata": {},
   "outputs": [],
   "source": [
    "list_of_dfs = []\n",
    "\n",
    "for filename in os.listdir('datasets/'):\n",
    "    if '2023' in filename:\n",
    "        list_of_dfs.append(filename)\n",
    "df_list = []\n",
    "for i in range(len(list_of_dfs)):\n",
    "    name = 'df_' + str(i)\n",
    "    name = pd.read_csv('datasets/' + list_of_dfs[i])\n",
    "    df_list.append(name)\n"
   ]
  },
  {
   "cell_type": "code",
   "execution_count": 138,
   "metadata": {},
   "outputs": [],
   "source": [
    "df_may = df_list[0]\n",
    "df_february = df_list[1]\n",
    "df_march = df_list[2]\n",
    "df_april = df_list[3]\n",
    "df_june = df_list[4]\n",
    "df_january = df_list[5]\n"
   ]
  },
  {
   "cell_type": "code",
   "execution_count": 139,
   "metadata": {},
   "outputs": [],
   "source": [
    "my_list = [df_january, df_february,df_march,df_april,df_may,df_june]"
   ]
  },
  {
   "cell_type": "code",
   "execution_count": 140,
   "metadata": {},
   "outputs": [],
   "source": [
    "all_trips = pd.concat(my_list)"
   ]
  },
  {
   "cell_type": "code",
   "execution_count": 141,
   "metadata": {},
   "outputs": [
    {
     "data": {
      "text/plain": [
       "ride_id                    0\n",
       "rideable_type              0\n",
       "started_at                 0\n",
       "ended_at                   0\n",
       "start_station_name    132564\n",
       "start_station_id      132564\n",
       "end_station_name      142260\n",
       "end_station_id        142260\n",
       "start_lat                  0\n",
       "start_lng                  0\n",
       "end_lat                 2875\n",
       "end_lng                 2875\n",
       "member_casual              0\n",
       "dtype: int64"
      ]
     },
     "execution_count": 141,
     "metadata": {},
     "output_type": "execute_result"
    }
   ],
   "source": [
    "all_trips.isna().sum()"
   ]
  },
  {
   "cell_type": "code",
   "execution_count": 142,
   "metadata": {},
   "outputs": [
    {
     "name": "stdout",
     "output_type": "stream",
     "text": [
      "Before dropping missing values: (1953963, 13)\n",
      "After dropping missing values: (1755337, 13)\n"
     ]
    }
   ],
   "source": [
    "print(f'Before dropping missing values: {all_trips.shape}')\n",
    "all_trips.dropna(how='any',inplace=True)\n",
    "print(f'After dropping missing values: {all_trips.shape}')"
   ]
  },
  {
   "cell_type": "code",
   "execution_count": 143,
   "metadata": {},
   "outputs": [
    {
     "data": {
      "text/html": [
       "<div>\n",
       "<style scoped>\n",
       "    .dataframe tbody tr th:only-of-type {\n",
       "        vertical-align: middle;\n",
       "    }\n",
       "\n",
       "    .dataframe tbody tr th {\n",
       "        vertical-align: top;\n",
       "    }\n",
       "\n",
       "    .dataframe thead th {\n",
       "        text-align: right;\n",
       "    }\n",
       "</style>\n",
       "<table border=\"1\" class=\"dataframe\">\n",
       "  <thead>\n",
       "    <tr style=\"text-align: right;\">\n",
       "      <th></th>\n",
       "      <th>ride_id</th>\n",
       "      <th>rideable_type</th>\n",
       "      <th>started_at</th>\n",
       "      <th>ended_at</th>\n",
       "      <th>start_station_name</th>\n",
       "      <th>start_station_id</th>\n",
       "      <th>end_station_name</th>\n",
       "      <th>end_station_id</th>\n",
       "      <th>start_lat</th>\n",
       "      <th>start_lng</th>\n",
       "      <th>end_lat</th>\n",
       "      <th>end_lng</th>\n",
       "      <th>member_casual</th>\n",
       "    </tr>\n",
       "  </thead>\n",
       "  <tbody>\n",
       "    <tr>\n",
       "      <th>0</th>\n",
       "      <td>65F0ACD101BF0D49</td>\n",
       "      <td>classic_bike</td>\n",
       "      <td>2023-01-04 19:34:07</td>\n",
       "      <td>2023-01-04 19:39:29</td>\n",
       "      <td>East Falls Church Metro / Sycamore St &amp; 19th St N</td>\n",
       "      <td>31904.0</td>\n",
       "      <td>W Columbia St &amp; N Washington St</td>\n",
       "      <td>32609.0</td>\n",
       "      <td>38.885321</td>\n",
       "      <td>-77.156427</td>\n",
       "      <td>38.885621</td>\n",
       "      <td>-77.166917</td>\n",
       "      <td>member</td>\n",
       "    </tr>\n",
       "    <tr>\n",
       "      <th>1</th>\n",
       "      <td>D75158CE73DC43F0</td>\n",
       "      <td>classic_bike</td>\n",
       "      <td>2023-01-27 15:26:38</td>\n",
       "      <td>2023-01-27 19:21:36</td>\n",
       "      <td>Carroll &amp; Westmoreland Ave</td>\n",
       "      <td>32025.0</td>\n",
       "      <td>Fenton St &amp; Ellsworth Dr</td>\n",
       "      <td>32036.0</td>\n",
       "      <td>38.975000</td>\n",
       "      <td>-77.011210</td>\n",
       "      <td>38.997033</td>\n",
       "      <td>-77.025608</td>\n",
       "      <td>member</td>\n",
       "    </tr>\n",
       "    <tr>\n",
       "      <th>2</th>\n",
       "      <td>33E85889625FF7CA</td>\n",
       "      <td>classic_bike</td>\n",
       "      <td>2023-01-05 20:44:38</td>\n",
       "      <td>2023-01-05 20:51:18</td>\n",
       "      <td>15th &amp; L St NW</td>\n",
       "      <td>31276.0</td>\n",
       "      <td>Thomas Circle</td>\n",
       "      <td>31241.0</td>\n",
       "      <td>38.903649</td>\n",
       "      <td>-77.034918</td>\n",
       "      <td>38.905900</td>\n",
       "      <td>-77.032500</td>\n",
       "      <td>member</td>\n",
       "    </tr>\n",
       "    <tr>\n",
       "      <th>3</th>\n",
       "      <td>E1F055A1651F47A1</td>\n",
       "      <td>classic_bike</td>\n",
       "      <td>2023-01-03 17:45:14</td>\n",
       "      <td>2023-01-03 17:57:23</td>\n",
       "      <td>Hartland Rd &amp; Harte Pl</td>\n",
       "      <td>32255.0</td>\n",
       "      <td>Merrifield Cinema &amp; Merrifield Town Center</td>\n",
       "      <td>32235.0</td>\n",
       "      <td>38.878601</td>\n",
       "      <td>-77.222808</td>\n",
       "      <td>38.870093</td>\n",
       "      <td>-77.229970</td>\n",
       "      <td>member</td>\n",
       "    </tr>\n",
       "    <tr>\n",
       "      <th>4</th>\n",
       "      <td>88CC90CEEC298BAF</td>\n",
       "      <td>classic_bike</td>\n",
       "      <td>2023-01-03 05:18:46</td>\n",
       "      <td>2023-01-03 05:25:50</td>\n",
       "      <td>Merrifield Cinema &amp; Merrifield Town Center</td>\n",
       "      <td>32235.0</td>\n",
       "      <td>Hartland Rd &amp; Harte Pl</td>\n",
       "      <td>32255.0</td>\n",
       "      <td>38.870093</td>\n",
       "      <td>-77.229970</td>\n",
       "      <td>38.878601</td>\n",
       "      <td>-77.222808</td>\n",
       "      <td>member</td>\n",
       "    </tr>\n",
       "  </tbody>\n",
       "</table>\n",
       "</div>"
      ],
      "text/plain": [
       "            ride_id rideable_type           started_at             ended_at  \\\n",
       "0  65F0ACD101BF0D49  classic_bike  2023-01-04 19:34:07  2023-01-04 19:39:29   \n",
       "1  D75158CE73DC43F0  classic_bike  2023-01-27 15:26:38  2023-01-27 19:21:36   \n",
       "2  33E85889625FF7CA  classic_bike  2023-01-05 20:44:38  2023-01-05 20:51:18   \n",
       "3  E1F055A1651F47A1  classic_bike  2023-01-03 17:45:14  2023-01-03 17:57:23   \n",
       "4  88CC90CEEC298BAF  classic_bike  2023-01-03 05:18:46  2023-01-03 05:25:50   \n",
       "\n",
       "                                  start_station_name  start_station_id  \\\n",
       "0  East Falls Church Metro / Sycamore St & 19th St N           31904.0   \n",
       "1                         Carroll & Westmoreland Ave           32025.0   \n",
       "2                                     15th & L St NW           31276.0   \n",
       "3                             Hartland Rd & Harte Pl           32255.0   \n",
       "4         Merrifield Cinema & Merrifield Town Center           32235.0   \n",
       "\n",
       "                             end_station_name  end_station_id  start_lat  \\\n",
       "0             W Columbia St & N Washington St         32609.0  38.885321   \n",
       "1                   Fenton St & Ellsworth Dr          32036.0  38.975000   \n",
       "2                               Thomas Circle         31241.0  38.903649   \n",
       "3  Merrifield Cinema & Merrifield Town Center         32235.0  38.878601   \n",
       "4                      Hartland Rd & Harte Pl         32255.0  38.870093   \n",
       "\n",
       "   start_lng    end_lat    end_lng member_casual  \n",
       "0 -77.156427  38.885621 -77.166917        member  \n",
       "1 -77.011210  38.997033 -77.025608        member  \n",
       "2 -77.034918  38.905900 -77.032500        member  \n",
       "3 -77.222808  38.870093 -77.229970        member  \n",
       "4 -77.229970  38.878601 -77.222808        member  "
      ]
     },
     "execution_count": 143,
     "metadata": {},
     "output_type": "execute_result"
    }
   ],
   "source": [
    "all_trips.head()"
   ]
  },
  {
   "cell_type": "code",
   "execution_count": 167,
   "metadata": {},
   "outputs": [],
   "source": [
    "all_trips['started_at'] = pd.to_datetime(all_trips['started_at'])\n",
    "all_trips['ended_at'] = pd.to_datetime(all_trips['ended_at'])"
   ]
  },
  {
   "cell_type": "code",
   "execution_count": 169,
   "metadata": {},
   "outputs": [],
   "source": [
    "all_trips['trip_duration'] = all_trips['ended_at'] - all_trips['started_at']\n",
    "all_trips['trip_duration_seconds'] = all_trips['trip_duration'].dt.total_seconds()"
   ]
  }
 ],
 "metadata": {
  "kernelspec": {
   "display_name": "base",
   "language": "python",
   "name": "python3"
  },
  "language_info": {
   "codemirror_mode": {
    "name": "ipython",
    "version": 3
   },
   "file_extension": ".py",
   "mimetype": "text/x-python",
   "name": "python",
   "nbconvert_exporter": "python",
   "pygments_lexer": "ipython3",
   "version": "3.9.13"
  },
  "orig_nbformat": 4
 },
 "nbformat": 4,
 "nbformat_minor": 2
}
