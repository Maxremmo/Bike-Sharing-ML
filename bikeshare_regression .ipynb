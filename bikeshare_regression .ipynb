{
 "cells": [
  {
   "cell_type": "code",
   "execution_count": null,
   "metadata": {},
   "outputs": [],
   "source": [
    "import pandas as pd \n",
    "import numpy as np \n",
    "import seaborn as sns \n",
    "import matplotlib.pyplot as plt\n",
    "import datetime as dt\n",
    "import os \n",
    "\n",
    "\n"
   ]
  },
  {
   "cell_type": "code",
   "execution_count": null,
   "metadata": {},
   "outputs": [],
   "source": [
    "list_of_dfs = []\n",
    "\n",
    "for filename in os.listdir('datasets/2023'):\n",
    "    list_of_dfs.append(filename)\n",
    "df_list = []\n",
    "for i in range(len(list_of_dfs)):\n",
    "    name = 'df_' + str(i)\n",
    "    name = pd.read_csv('datasets/2023/' + list_of_dfs[i])\n",
    "    df_list.append(name)\n"
   ]
  },
  {
   "cell_type": "code",
   "execution_count": null,
   "metadata": {},
   "outputs": [],
   "source": [
    "df_may = df_list[0]\n",
    "df_february = df_list[1]\n",
    "df_march = df_list[2]\n",
    "df_april = df_list[3]\n",
    "df_june = df_list[4]\n",
    "df_january = df_list[5]\n"
   ]
  },
  {
   "cell_type": "code",
   "execution_count": null,
   "metadata": {},
   "outputs": [],
   "source": [
    "my_list = [df_january, df_february,df_march,df_april,df_may,df_june]"
   ]
  },
  {
   "cell_type": "code",
   "execution_count": null,
   "metadata": {},
   "outputs": [],
   "source": [
    "all_trips = pd.concat(my_list)"
   ]
  },
  {
   "cell_type": "code",
   "execution_count": null,
   "metadata": {},
   "outputs": [
    {
     "data": {
      "text/plain": [
       "ride_id                    0\n",
       "rideable_type              0\n",
       "started_at                 0\n",
       "ended_at                   0\n",
       "start_station_name    132564\n",
       "start_station_id      132564\n",
       "end_station_name      142260\n",
       "end_station_id        142260\n",
       "start_lat                  0\n",
       "start_lng                  0\n",
       "end_lat                 2875\n",
       "end_lng                 2875\n",
       "member_casual              0\n",
       "dtype: int64"
      ]
     },
     "metadata": {},
     "output_type": "display_data"
    }
   ],
   "source": [
    "all_trips.isna().sum()"
   ]
  },
  {
   "cell_type": "code",
   "execution_count": null,
   "metadata": {},
   "outputs": [
    {
     "name": "stdout",
     "output_type": "stream",
     "text": [
      "Before dropping missing values: (1953963, 13)\n",
      "After dropping missing values: (1755337, 13)\n"
     ]
    }
   ],
   "source": [
    "print(f'Before dropping missing values: {all_trips.shape}')\n",
    "all_trips.dropna(how='any',inplace=True)\n",
    "print(f'After dropping missing values: {all_trips.shape}')"
   ]
  },
  {
   "cell_type": "code",
   "execution_count": null,
   "metadata": {},
   "outputs": [],
   "source": [
    "all_trips.sort_values('started_at', inplace=True)"
   ]
  },
  {
   "cell_type": "code",
   "execution_count": null,
   "metadata": {},
   "outputs": [],
   "source": [
    "all_trips['started_at'] = pd.to_datetime(all_trips['started_at'])\n",
    "all_trips['ended_at'] = pd.to_datetime(all_trips['ended_at'])"
   ]
  },
  {
   "cell_type": "code",
   "execution_count": null,
   "metadata": {},
   "outputs": [],
   "source": [
    "all_trips['trip_duration'] = all_trips['ended_at'] - all_trips['started_at']\n",
    "all_trips['trip_duration_seconds'] = all_trips['trip_duration'].dt.total_seconds()"
   ]
  },
  {
   "cell_type": "code",
   "execution_count": null,
   "metadata": {},
   "outputs": [
    {
     "data": {
      "text/html": [
       "<div>\n",
       "<style scoped>\n",
       "    .dataframe tbody tr th:only-of-type {\n",
       "        vertical-align: middle;\n",
       "    }\n",
       "\n",
       "    .dataframe tbody tr th {\n",
       "        vertical-align: top;\n",
       "    }\n",
       "\n",
       "    .dataframe thead th {\n",
       "        text-align: right;\n",
       "    }\n",
       "</style>\n",
       "<table border=\"1\" class=\"dataframe\">\n",
       "  <thead>\n",
       "    <tr style=\"text-align: right;\">\n",
       "      <th></th>\n",
       "      <th>ride_id</th>\n",
       "      <th>rideable_type</th>\n",
       "      <th>started_at</th>\n",
       "      <th>ended_at</th>\n",
       "      <th>start_station_name</th>\n",
       "      <th>start_station_id</th>\n",
       "      <th>end_station_name</th>\n",
       "      <th>end_station_id</th>\n",
       "      <th>start_lat</th>\n",
       "      <th>start_lng</th>\n",
       "      <th>end_lat</th>\n",
       "      <th>end_lng</th>\n",
       "      <th>member_casual</th>\n",
       "      <th>trip_duration</th>\n",
       "      <th>trip_duration_seconds</th>\n",
       "    </tr>\n",
       "  </thead>\n",
       "  <tbody>\n",
       "    <tr>\n",
       "      <th>128323</th>\n",
       "      <td>4B88BE3AEA4FD3C2</td>\n",
       "      <td>classic_bike</td>\n",
       "      <td>2023-01-01 00:03:48</td>\n",
       "      <td>2023-01-01 00:41:23</td>\n",
       "      <td>Lincoln Memorial</td>\n",
       "      <td>31258.0</td>\n",
       "      <td>20th &amp; E St NW</td>\n",
       "      <td>31204.0</td>\n",
       "      <td>38.888255</td>\n",
       "      <td>-77.049436</td>\n",
       "      <td>38.896300</td>\n",
       "      <td>-77.045000</td>\n",
       "      <td>member</td>\n",
       "      <td>0 days 00:37:35</td>\n",
       "      <td>2255.0</td>\n",
       "    </tr>\n",
       "    <tr>\n",
       "      <th>148254</th>\n",
       "      <td>B9CBD9EBCD559256</td>\n",
       "      <td>electric_bike</td>\n",
       "      <td>2023-01-01 00:05:08</td>\n",
       "      <td>2023-01-01 00:16:09</td>\n",
       "      <td>14th &amp; Belmont St NW</td>\n",
       "      <td>31119.0</td>\n",
       "      <td>16th &amp; Irving St NW</td>\n",
       "      <td>31122.0</td>\n",
       "      <td>38.921118</td>\n",
       "      <td>-77.031776</td>\n",
       "      <td>38.928893</td>\n",
       "      <td>-77.036250</td>\n",
       "      <td>member</td>\n",
       "      <td>0 days 00:11:01</td>\n",
       "      <td>661.0</td>\n",
       "    </tr>\n",
       "    <tr>\n",
       "      <th>155929</th>\n",
       "      <td>0514F0FDDA83CC2D</td>\n",
       "      <td>classic_bike</td>\n",
       "      <td>2023-01-01 00:05:36</td>\n",
       "      <td>2023-01-01 00:32:44</td>\n",
       "      <td>Lincoln Memorial</td>\n",
       "      <td>31258.0</td>\n",
       "      <td>S Troy St &amp; 26th St S</td>\n",
       "      <td>31056.0</td>\n",
       "      <td>38.888255</td>\n",
       "      <td>-77.049436</td>\n",
       "      <td>38.847977</td>\n",
       "      <td>-77.075104</td>\n",
       "      <td>casual</td>\n",
       "      <td>0 days 00:27:08</td>\n",
       "      <td>1628.0</td>\n",
       "    </tr>\n",
       "    <tr>\n",
       "      <th>72858</th>\n",
       "      <td>BD93FC917AE9F223</td>\n",
       "      <td>classic_bike</td>\n",
       "      <td>2023-01-01 00:06:16</td>\n",
       "      <td>2023-01-01 00:38:13</td>\n",
       "      <td>Court House Metro / 15th St &amp; N Uhle St</td>\n",
       "      <td>31089.0</td>\n",
       "      <td>Wilson Blvd &amp; Ft Myer Dr</td>\n",
       "      <td>31015.0</td>\n",
       "      <td>38.890612</td>\n",
       "      <td>-77.084801</td>\n",
       "      <td>38.894600</td>\n",
       "      <td>-77.072305</td>\n",
       "      <td>casual</td>\n",
       "      <td>0 days 00:31:57</td>\n",
       "      <td>1917.0</td>\n",
       "    </tr>\n",
       "    <tr>\n",
       "      <th>72854</th>\n",
       "      <td>179364770202D6D8</td>\n",
       "      <td>classic_bike</td>\n",
       "      <td>2023-01-01 00:06:51</td>\n",
       "      <td>2023-01-01 00:37:13</td>\n",
       "      <td>Court House Metro / 15th St &amp; N Uhle St</td>\n",
       "      <td>31089.0</td>\n",
       "      <td>Wilson Blvd &amp; Ft Myer Dr</td>\n",
       "      <td>31015.0</td>\n",
       "      <td>38.890612</td>\n",
       "      <td>-77.084801</td>\n",
       "      <td>38.894600</td>\n",
       "      <td>-77.072305</td>\n",
       "      <td>casual</td>\n",
       "      <td>0 days 00:30:22</td>\n",
       "      <td>1822.0</td>\n",
       "    </tr>\n",
       "  </tbody>\n",
       "</table>\n",
       "</div>"
      ],
      "text/plain": [
       "                 ride_id  rideable_type          started_at  \\\n",
       "128323  4B88BE3AEA4FD3C2   classic_bike 2023-01-01 00:03:48   \n",
       "148254  B9CBD9EBCD559256  electric_bike 2023-01-01 00:05:08   \n",
       "155929  0514F0FDDA83CC2D   classic_bike 2023-01-01 00:05:36   \n",
       "72858   BD93FC917AE9F223   classic_bike 2023-01-01 00:06:16   \n",
       "72854   179364770202D6D8   classic_bike 2023-01-01 00:06:51   \n",
       "\n",
       "                  ended_at                       start_station_name  \\\n",
       "128323 2023-01-01 00:41:23                         Lincoln Memorial   \n",
       "148254 2023-01-01 00:16:09                     14th & Belmont St NW   \n",
       "155929 2023-01-01 00:32:44                         Lincoln Memorial   \n",
       "72858  2023-01-01 00:38:13  Court House Metro / 15th St & N Uhle St   \n",
       "72854  2023-01-01 00:37:13  Court House Metro / 15th St & N Uhle St   \n",
       "\n",
       "        start_station_id          end_station_name  end_station_id  start_lat  \\\n",
       "128323           31258.0            20th & E St NW         31204.0  38.888255   \n",
       "148254           31119.0       16th & Irving St NW         31122.0  38.921118   \n",
       "155929           31258.0     S Troy St & 26th St S         31056.0  38.888255   \n",
       "72858            31089.0  Wilson Blvd & Ft Myer Dr         31015.0  38.890612   \n",
       "72854            31089.0  Wilson Blvd & Ft Myer Dr         31015.0  38.890612   \n",
       "\n",
       "        start_lng    end_lat    end_lng member_casual   trip_duration  \\\n",
       "128323 -77.049436  38.896300 -77.045000        member 0 days 00:37:35   \n",
       "148254 -77.031776  38.928893 -77.036250        member 0 days 00:11:01   \n",
       "155929 -77.049436  38.847977 -77.075104        casual 0 days 00:27:08   \n",
       "72858  -77.084801  38.894600 -77.072305        casual 0 days 00:31:57   \n",
       "72854  -77.084801  38.894600 -77.072305        casual 0 days 00:30:22   \n",
       "\n",
       "        trip_duration_seconds  \n",
       "128323                 2255.0  \n",
       "148254                  661.0  \n",
       "155929                 1628.0  \n",
       "72858                  1917.0  \n",
       "72854                  1822.0  "
      ]
     },
     "metadata": {},
     "output_type": "display_data"
    }
   ],
   "source": [
    "all_trips.head()"
   ]
  },
  {
   "cell_type": "code",
   "execution_count": null,
   "metadata": {},
   "outputs": [],
   "source": [
    "all_trips = all_trips[['ride_id',\n",
    " 'rideable_type',\n",
    " 'started_at',\n",
    " 'ended_at',\n",
    " 'trip_duration',\n",
    " 'trip_duration_seconds',\n",
    " 'start_station_name',\n",
    " 'start_station_id',\n",
    " 'end_station_name',\n",
    " 'end_station_id',\n",
    " 'start_lat',\n",
    " 'start_lng',\n",
    " 'end_lat',\n",
    " 'end_lng',\n",
    " 'member_casual']]"
   ]
  },
  {
   "cell_type": "code",
   "execution_count": null,
   "metadata": {},
   "outputs": [
    {
     "data": {
      "text/html": [
       "<div>\n",
       "<style scoped>\n",
       "    .dataframe tbody tr th:only-of-type {\n",
       "        vertical-align: middle;\n",
       "    }\n",
       "\n",
       "    .dataframe tbody tr th {\n",
       "        vertical-align: top;\n",
       "    }\n",
       "\n",
       "    .dataframe thead th {\n",
       "        text-align: right;\n",
       "    }\n",
       "</style>\n",
       "<table border=\"1\" class=\"dataframe\">\n",
       "  <thead>\n",
       "    <tr style=\"text-align: right;\">\n",
       "      <th></th>\n",
       "      <th>ride_id</th>\n",
       "      <th>rideable_type</th>\n",
       "      <th>started_at</th>\n",
       "      <th>ended_at</th>\n",
       "      <th>trip_duration</th>\n",
       "      <th>trip_duration_seconds</th>\n",
       "      <th>start_station_name</th>\n",
       "      <th>start_station_id</th>\n",
       "      <th>end_station_name</th>\n",
       "      <th>end_station_id</th>\n",
       "      <th>start_lat</th>\n",
       "      <th>start_lng</th>\n",
       "      <th>end_lat</th>\n",
       "      <th>end_lng</th>\n",
       "      <th>member_casual</th>\n",
       "    </tr>\n",
       "  </thead>\n",
       "  <tbody>\n",
       "    <tr>\n",
       "      <th>153307</th>\n",
       "      <td>9F38F4CC2D052F11</td>\n",
       "      <td>docked_bike</td>\n",
       "      <td>2023-05-06 22:30:16</td>\n",
       "      <td>2023-05-31 14:48:54</td>\n",
       "      <td>24 days 16:18:38</td>\n",
       "      <td>2132318.0</td>\n",
       "      <td>3rd &amp; Tingey St SE</td>\n",
       "      <td>31634.0</td>\n",
       "      <td>7th &amp; E St SW</td>\n",
       "      <td>31294.0</td>\n",
       "      <td>38.87501</td>\n",
       "      <td>-77.0024</td>\n",
       "      <td>38.88345</td>\n",
       "      <td>-77.021741</td>\n",
       "      <td>casual</td>\n",
       "    </tr>\n",
       "  </tbody>\n",
       "</table>\n",
       "</div>"
      ],
      "text/plain": [
       "                 ride_id rideable_type          started_at  \\\n",
       "153307  9F38F4CC2D052F11   docked_bike 2023-05-06 22:30:16   \n",
       "\n",
       "                  ended_at    trip_duration  trip_duration_seconds  \\\n",
       "153307 2023-05-31 14:48:54 24 days 16:18:38              2132318.0   \n",
       "\n",
       "        start_station_name  start_station_id end_station_name  end_station_id  \\\n",
       "153307  3rd & Tingey St SE           31634.0    7th & E St SW         31294.0   \n",
       "\n",
       "        start_lat  start_lng   end_lat    end_lng member_casual  \n",
       "153307   38.87501   -77.0024  38.88345 -77.021741        casual  "
      ]
     },
     "metadata": {},
     "output_type": "display_data"
    }
   ],
   "source": [
    "all_trips[all_trips['trip_duration_seconds'] == 2132318.0]"
   ]
  },
  {
   "cell_type": "code",
   "execution_count": null,
   "metadata": {},
   "outputs": [],
   "source": [
    "secs = 20000\n",
    "secs.dt.to"
   ]
  }
 ],
 "metadata": {
  "language_info": {
   "name": "python"
  },
  "orig_nbformat": 4
 },
 "nbformat": 4,
 "nbformat_minor": 2
}
